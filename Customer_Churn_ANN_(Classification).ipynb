{
  "nbformat": 4,
  "nbformat_minor": 0,
  "metadata": {
    "colab": {
      "provenance": [],
      "include_colab_link": true
    },
    "kernelspec": {
      "name": "python3",
      "display_name": "Python 3"
    },
    "language_info": {
      "name": "python"
    }
  },
  "cells": [
    {
      "cell_type": "markdown",
      "metadata": {
        "id": "view-in-github",
        "colab_type": "text"
      },
      "source": [
        "<a href=\"https://colab.research.google.com/github/shikhaguptadr/Natural-Language-Processing/blob/main/Customer_Churn_ANN_(Classification).ipynb\" target=\"_parent\"><img src=\"https://colab.research.google.com/assets/colab-badge.svg\" alt=\"Open In Colab\"/></a>"
      ]
    },
    {
      "cell_type": "markdown",
      "source": [
        "### **Import the dependancy**"
      ],
      "metadata": {
        "id": "MDPdriaxdAtR"
      }
    },
    {
      "cell_type": "code",
      "execution_count": null,
      "metadata": {
        "colab": {
          "base_uri": "https://localhost:8080/"
        },
        "id": "c3oBYyxhu7F6",
        "outputId": "6b52e40d-40bb-44be-88e8-df67b35e1bd5"
      },
      "outputs": [
        {
          "output_type": "stream",
          "name": "stdout",
          "text": [
            "Requirement already satisfied: tensorflow in /usr/local/lib/python3.11/dist-packages (2.18.0)\n",
            "Requirement already satisfied: absl-py>=1.0.0 in /usr/local/lib/python3.11/dist-packages (from tensorflow) (1.4.0)\n",
            "Requirement already satisfied: astunparse>=1.6.0 in /usr/local/lib/python3.11/dist-packages (from tensorflow) (1.6.3)\n",
            "Requirement already satisfied: flatbuffers>=24.3.25 in /usr/local/lib/python3.11/dist-packages (from tensorflow) (25.2.10)\n",
            "Requirement already satisfied: gast!=0.5.0,!=0.5.1,!=0.5.2,>=0.2.1 in /usr/local/lib/python3.11/dist-packages (from tensorflow) (0.6.0)\n",
            "Requirement already satisfied: google-pasta>=0.1.1 in /usr/local/lib/python3.11/dist-packages (from tensorflow) (0.2.0)\n",
            "Requirement already satisfied: libclang>=13.0.0 in /usr/local/lib/python3.11/dist-packages (from tensorflow) (18.1.1)\n",
            "Requirement already satisfied: opt-einsum>=2.3.2 in /usr/local/lib/python3.11/dist-packages (from tensorflow) (3.4.0)\n",
            "Requirement already satisfied: packaging in /usr/local/lib/python3.11/dist-packages (from tensorflow) (25.0)\n",
            "Requirement already satisfied: protobuf!=4.21.0,!=4.21.1,!=4.21.2,!=4.21.3,!=4.21.4,!=4.21.5,<6.0.0dev,>=3.20.3 in /usr/local/lib/python3.11/dist-packages (from tensorflow) (5.29.5)\n",
            "Requirement already satisfied: requests<3,>=2.21.0 in /usr/local/lib/python3.11/dist-packages (from tensorflow) (2.32.3)\n",
            "Requirement already satisfied: setuptools in /usr/local/lib/python3.11/dist-packages (from tensorflow) (75.2.0)\n",
            "Requirement already satisfied: six>=1.12.0 in /usr/local/lib/python3.11/dist-packages (from tensorflow) (1.17.0)\n",
            "Requirement already satisfied: termcolor>=1.1.0 in /usr/local/lib/python3.11/dist-packages (from tensorflow) (3.1.0)\n",
            "Requirement already satisfied: typing-extensions>=3.6.6 in /usr/local/lib/python3.11/dist-packages (from tensorflow) (4.14.1)\n",
            "Requirement already satisfied: wrapt>=1.11.0 in /usr/local/lib/python3.11/dist-packages (from tensorflow) (1.17.2)\n",
            "Requirement already satisfied: grpcio<2.0,>=1.24.3 in /usr/local/lib/python3.11/dist-packages (from tensorflow) (1.73.1)\n",
            "Requirement already satisfied: tensorboard<2.19,>=2.18 in /usr/local/lib/python3.11/dist-packages (from tensorflow) (2.18.0)\n",
            "Requirement already satisfied: keras>=3.5.0 in /usr/local/lib/python3.11/dist-packages (from tensorflow) (3.8.0)\n",
            "Requirement already satisfied: numpy<2.1.0,>=1.26.0 in /usr/local/lib/python3.11/dist-packages (from tensorflow) (2.0.2)\n",
            "Requirement already satisfied: h5py>=3.11.0 in /usr/local/lib/python3.11/dist-packages (from tensorflow) (3.14.0)\n",
            "Requirement already satisfied: ml-dtypes<0.5.0,>=0.4.0 in /usr/local/lib/python3.11/dist-packages (from tensorflow) (0.4.1)\n",
            "Requirement already satisfied: tensorflow-io-gcs-filesystem>=0.23.1 in /usr/local/lib/python3.11/dist-packages (from tensorflow) (0.37.1)\n",
            "Requirement already satisfied: wheel<1.0,>=0.23.0 in /usr/local/lib/python3.11/dist-packages (from astunparse>=1.6.0->tensorflow) (0.45.1)\n",
            "Requirement already satisfied: rich in /usr/local/lib/python3.11/dist-packages (from keras>=3.5.0->tensorflow) (13.9.4)\n",
            "Requirement already satisfied: namex in /usr/local/lib/python3.11/dist-packages (from keras>=3.5.0->tensorflow) (0.1.0)\n",
            "Requirement already satisfied: optree in /usr/local/lib/python3.11/dist-packages (from keras>=3.5.0->tensorflow) (0.16.0)\n",
            "Requirement already satisfied: charset-normalizer<4,>=2 in /usr/local/lib/python3.11/dist-packages (from requests<3,>=2.21.0->tensorflow) (3.4.2)\n",
            "Requirement already satisfied: idna<4,>=2.5 in /usr/local/lib/python3.11/dist-packages (from requests<3,>=2.21.0->tensorflow) (3.10)\n",
            "Requirement already satisfied: urllib3<3,>=1.21.1 in /usr/local/lib/python3.11/dist-packages (from requests<3,>=2.21.0->tensorflow) (2.5.0)\n",
            "Requirement already satisfied: certifi>=2017.4.17 in /usr/local/lib/python3.11/dist-packages (from requests<3,>=2.21.0->tensorflow) (2025.7.14)\n",
            "Requirement already satisfied: markdown>=2.6.8 in /usr/local/lib/python3.11/dist-packages (from tensorboard<2.19,>=2.18->tensorflow) (3.8.2)\n",
            "Requirement already satisfied: tensorboard-data-server<0.8.0,>=0.7.0 in /usr/local/lib/python3.11/dist-packages (from tensorboard<2.19,>=2.18->tensorflow) (0.7.2)\n",
            "Requirement already satisfied: werkzeug>=1.0.1 in /usr/local/lib/python3.11/dist-packages (from tensorboard<2.19,>=2.18->tensorflow) (3.1.3)\n",
            "Requirement already satisfied: MarkupSafe>=2.1.1 in /usr/local/lib/python3.11/dist-packages (from werkzeug>=1.0.1->tensorboard<2.19,>=2.18->tensorflow) (3.0.2)\n",
            "Requirement already satisfied: markdown-it-py>=2.2.0 in /usr/local/lib/python3.11/dist-packages (from rich->keras>=3.5.0->tensorflow) (3.0.0)\n",
            "Requirement already satisfied: pygments<3.0.0,>=2.13.0 in /usr/local/lib/python3.11/dist-packages (from rich->keras>=3.5.0->tensorflow) (2.19.2)\n",
            "Requirement already satisfied: mdurl~=0.1 in /usr/local/lib/python3.11/dist-packages (from markdown-it-py>=2.2.0->rich->keras>=3.5.0->tensorflow) (0.1.2)\n"
          ]
        }
      ],
      "source": [
        "!pip install tensorflow\n",
        "import pandas as pd\n",
        "import numpy as np\n",
        "from sklearn.model_selection import train_test_split\n",
        "from sklearn.preprocessing import StandardScaler\n",
        "import tensorflow\n",
        "from tensorflow import keras\n",
        "from tensorflow.keras import Sequential\n",
        "from tensorflow.keras.layers import Dense"
      ]
    },
    {
      "cell_type": "code",
      "source": [
        "# load the dataset\n",
        "df = pd.read_csv('/content/drive/MyDrive/Colab Notebooks/Toppers Acadmy Data/data/Machine Learning/Deep Learning/Copy of Churn_Modelling.csv')"
      ],
      "metadata": {
        "id": "Be7wvb5vvc7M"
      },
      "execution_count": null,
      "outputs": []
    },
    {
      "cell_type": "code",
      "source": [
        "df.head()"
      ],
      "metadata": {
        "colab": {
          "base_uri": "https://localhost:8080/",
          "height": 226
        },
        "id": "8ME9q3BUvvWD",
        "outputId": "e27ad29c-b2c8-4aac-edce-0c1a7bc8ca7d"
      },
      "execution_count": null,
      "outputs": [
        {
          "output_type": "execute_result",
          "data": {
            "text/plain": [
              "   RowNumber  CustomerId   Surname  CreditScore Geography  Gender  Age  \\\n",
              "0          1    15634602  Hargrave          619    France  Female   42   \n",
              "1          2    15647311      Hill          608     Spain  Female   41   \n",
              "2          3    15619304      Onio          502    France  Female   42   \n",
              "3          4    15701354      Boni          699    France  Female   39   \n",
              "4          5    15737888  Mitchell          850     Spain  Female   43   \n",
              "\n",
              "   Tenure    Balance  NumOfProducts  HasCrCard  IsActiveMember  \\\n",
              "0       2       0.00              1          1               1   \n",
              "1       1   83807.86              1          0               1   \n",
              "2       8  159660.80              3          1               0   \n",
              "3       1       0.00              2          0               0   \n",
              "4       2  125510.82              1          1               1   \n",
              "\n",
              "   EstimatedSalary  Exited  \n",
              "0        101348.88       1  \n",
              "1        112542.58       0  \n",
              "2        113931.57       1  \n",
              "3         93826.63       0  \n",
              "4         79084.10       0  "
            ],
            "text/html": [
              "\n",
              "  <div id=\"df-da88fe20-aaf6-4c2b-8fd0-67250b850f2e\" class=\"colab-df-container\">\n",
              "    <div>\n",
              "<style scoped>\n",
              "    .dataframe tbody tr th:only-of-type {\n",
              "        vertical-align: middle;\n",
              "    }\n",
              "\n",
              "    .dataframe tbody tr th {\n",
              "        vertical-align: top;\n",
              "    }\n",
              "\n",
              "    .dataframe thead th {\n",
              "        text-align: right;\n",
              "    }\n",
              "</style>\n",
              "<table border=\"1\" class=\"dataframe\">\n",
              "  <thead>\n",
              "    <tr style=\"text-align: right;\">\n",
              "      <th></th>\n",
              "      <th>RowNumber</th>\n",
              "      <th>CustomerId</th>\n",
              "      <th>Surname</th>\n",
              "      <th>CreditScore</th>\n",
              "      <th>Geography</th>\n",
              "      <th>Gender</th>\n",
              "      <th>Age</th>\n",
              "      <th>Tenure</th>\n",
              "      <th>Balance</th>\n",
              "      <th>NumOfProducts</th>\n",
              "      <th>HasCrCard</th>\n",
              "      <th>IsActiveMember</th>\n",
              "      <th>EstimatedSalary</th>\n",
              "      <th>Exited</th>\n",
              "    </tr>\n",
              "  </thead>\n",
              "  <tbody>\n",
              "    <tr>\n",
              "      <th>0</th>\n",
              "      <td>1</td>\n",
              "      <td>15634602</td>\n",
              "      <td>Hargrave</td>\n",
              "      <td>619</td>\n",
              "      <td>France</td>\n",
              "      <td>Female</td>\n",
              "      <td>42</td>\n",
              "      <td>2</td>\n",
              "      <td>0.00</td>\n",
              "      <td>1</td>\n",
              "      <td>1</td>\n",
              "      <td>1</td>\n",
              "      <td>101348.88</td>\n",
              "      <td>1</td>\n",
              "    </tr>\n",
              "    <tr>\n",
              "      <th>1</th>\n",
              "      <td>2</td>\n",
              "      <td>15647311</td>\n",
              "      <td>Hill</td>\n",
              "      <td>608</td>\n",
              "      <td>Spain</td>\n",
              "      <td>Female</td>\n",
              "      <td>41</td>\n",
              "      <td>1</td>\n",
              "      <td>83807.86</td>\n",
              "      <td>1</td>\n",
              "      <td>0</td>\n",
              "      <td>1</td>\n",
              "      <td>112542.58</td>\n",
              "      <td>0</td>\n",
              "    </tr>\n",
              "    <tr>\n",
              "      <th>2</th>\n",
              "      <td>3</td>\n",
              "      <td>15619304</td>\n",
              "      <td>Onio</td>\n",
              "      <td>502</td>\n",
              "      <td>France</td>\n",
              "      <td>Female</td>\n",
              "      <td>42</td>\n",
              "      <td>8</td>\n",
              "      <td>159660.80</td>\n",
              "      <td>3</td>\n",
              "      <td>1</td>\n",
              "      <td>0</td>\n",
              "      <td>113931.57</td>\n",
              "      <td>1</td>\n",
              "    </tr>\n",
              "    <tr>\n",
              "      <th>3</th>\n",
              "      <td>4</td>\n",
              "      <td>15701354</td>\n",
              "      <td>Boni</td>\n",
              "      <td>699</td>\n",
              "      <td>France</td>\n",
              "      <td>Female</td>\n",
              "      <td>39</td>\n",
              "      <td>1</td>\n",
              "      <td>0.00</td>\n",
              "      <td>2</td>\n",
              "      <td>0</td>\n",
              "      <td>0</td>\n",
              "      <td>93826.63</td>\n",
              "      <td>0</td>\n",
              "    </tr>\n",
              "    <tr>\n",
              "      <th>4</th>\n",
              "      <td>5</td>\n",
              "      <td>15737888</td>\n",
              "      <td>Mitchell</td>\n",
              "      <td>850</td>\n",
              "      <td>Spain</td>\n",
              "      <td>Female</td>\n",
              "      <td>43</td>\n",
              "      <td>2</td>\n",
              "      <td>125510.82</td>\n",
              "      <td>1</td>\n",
              "      <td>1</td>\n",
              "      <td>1</td>\n",
              "      <td>79084.10</td>\n",
              "      <td>0</td>\n",
              "    </tr>\n",
              "  </tbody>\n",
              "</table>\n",
              "</div>\n",
              "    <div class=\"colab-df-buttons\">\n",
              "\n",
              "  <div class=\"colab-df-container\">\n",
              "    <button class=\"colab-df-convert\" onclick=\"convertToInteractive('df-da88fe20-aaf6-4c2b-8fd0-67250b850f2e')\"\n",
              "            title=\"Convert this dataframe to an interactive table.\"\n",
              "            style=\"display:none;\">\n",
              "\n",
              "  <svg xmlns=\"http://www.w3.org/2000/svg\" height=\"24px\" viewBox=\"0 -960 960 960\">\n",
              "    <path d=\"M120-120v-720h720v720H120Zm60-500h600v-160H180v160Zm220 220h160v-160H400v160Zm0 220h160v-160H400v160ZM180-400h160v-160H180v160Zm440 0h160v-160H620v160ZM180-180h160v-160H180v160Zm440 0h160v-160H620v160Z\"/>\n",
              "  </svg>\n",
              "    </button>\n",
              "\n",
              "  <style>\n",
              "    .colab-df-container {\n",
              "      display:flex;\n",
              "      gap: 12px;\n",
              "    }\n",
              "\n",
              "    .colab-df-convert {\n",
              "      background-color: #E8F0FE;\n",
              "      border: none;\n",
              "      border-radius: 50%;\n",
              "      cursor: pointer;\n",
              "      display: none;\n",
              "      fill: #1967D2;\n",
              "      height: 32px;\n",
              "      padding: 0 0 0 0;\n",
              "      width: 32px;\n",
              "    }\n",
              "\n",
              "    .colab-df-convert:hover {\n",
              "      background-color: #E2EBFA;\n",
              "      box-shadow: 0px 1px 2px rgba(60, 64, 67, 0.3), 0px 1px 3px 1px rgba(60, 64, 67, 0.15);\n",
              "      fill: #174EA6;\n",
              "    }\n",
              "\n",
              "    .colab-df-buttons div {\n",
              "      margin-bottom: 4px;\n",
              "    }\n",
              "\n",
              "    [theme=dark] .colab-df-convert {\n",
              "      background-color: #3B4455;\n",
              "      fill: #D2E3FC;\n",
              "    }\n",
              "\n",
              "    [theme=dark] .colab-df-convert:hover {\n",
              "      background-color: #434B5C;\n",
              "      box-shadow: 0px 1px 3px 1px rgba(0, 0, 0, 0.15);\n",
              "      filter: drop-shadow(0px 1px 2px rgba(0, 0, 0, 0.3));\n",
              "      fill: #FFFFFF;\n",
              "    }\n",
              "  </style>\n",
              "\n",
              "    <script>\n",
              "      const buttonEl =\n",
              "        document.querySelector('#df-da88fe20-aaf6-4c2b-8fd0-67250b850f2e button.colab-df-convert');\n",
              "      buttonEl.style.display =\n",
              "        google.colab.kernel.accessAllowed ? 'block' : 'none';\n",
              "\n",
              "      async function convertToInteractive(key) {\n",
              "        const element = document.querySelector('#df-da88fe20-aaf6-4c2b-8fd0-67250b850f2e');\n",
              "        const dataTable =\n",
              "          await google.colab.kernel.invokeFunction('convertToInteractive',\n",
              "                                                    [key], {});\n",
              "        if (!dataTable) return;\n",
              "\n",
              "        const docLinkHtml = 'Like what you see? Visit the ' +\n",
              "          '<a target=\"_blank\" href=https://colab.research.google.com/notebooks/data_table.ipynb>data table notebook</a>'\n",
              "          + ' to learn more about interactive tables.';\n",
              "        element.innerHTML = '';\n",
              "        dataTable['output_type'] = 'display_data';\n",
              "        await google.colab.output.renderOutput(dataTable, element);\n",
              "        const docLink = document.createElement('div');\n",
              "        docLink.innerHTML = docLinkHtml;\n",
              "        element.appendChild(docLink);\n",
              "      }\n",
              "    </script>\n",
              "  </div>\n",
              "\n",
              "\n",
              "    <div id=\"df-a4f4ba6a-5c4a-43e8-ace5-c6b586a78120\">\n",
              "      <button class=\"colab-df-quickchart\" onclick=\"quickchart('df-a4f4ba6a-5c4a-43e8-ace5-c6b586a78120')\"\n",
              "                title=\"Suggest charts\"\n",
              "                style=\"display:none;\">\n",
              "\n",
              "<svg xmlns=\"http://www.w3.org/2000/svg\" height=\"24px\"viewBox=\"0 0 24 24\"\n",
              "     width=\"24px\">\n",
              "    <g>\n",
              "        <path d=\"M19 3H5c-1.1 0-2 .9-2 2v14c0 1.1.9 2 2 2h14c1.1 0 2-.9 2-2V5c0-1.1-.9-2-2-2zM9 17H7v-7h2v7zm4 0h-2V7h2v10zm4 0h-2v-4h2v4z\"/>\n",
              "    </g>\n",
              "</svg>\n",
              "      </button>\n",
              "\n",
              "<style>\n",
              "  .colab-df-quickchart {\n",
              "      --bg-color: #E8F0FE;\n",
              "      --fill-color: #1967D2;\n",
              "      --hover-bg-color: #E2EBFA;\n",
              "      --hover-fill-color: #174EA6;\n",
              "      --disabled-fill-color: #AAA;\n",
              "      --disabled-bg-color: #DDD;\n",
              "  }\n",
              "\n",
              "  [theme=dark] .colab-df-quickchart {\n",
              "      --bg-color: #3B4455;\n",
              "      --fill-color: #D2E3FC;\n",
              "      --hover-bg-color: #434B5C;\n",
              "      --hover-fill-color: #FFFFFF;\n",
              "      --disabled-bg-color: #3B4455;\n",
              "      --disabled-fill-color: #666;\n",
              "  }\n",
              "\n",
              "  .colab-df-quickchart {\n",
              "    background-color: var(--bg-color);\n",
              "    border: none;\n",
              "    border-radius: 50%;\n",
              "    cursor: pointer;\n",
              "    display: none;\n",
              "    fill: var(--fill-color);\n",
              "    height: 32px;\n",
              "    padding: 0;\n",
              "    width: 32px;\n",
              "  }\n",
              "\n",
              "  .colab-df-quickchart:hover {\n",
              "    background-color: var(--hover-bg-color);\n",
              "    box-shadow: 0 1px 2px rgba(60, 64, 67, 0.3), 0 1px 3px 1px rgba(60, 64, 67, 0.15);\n",
              "    fill: var(--button-hover-fill-color);\n",
              "  }\n",
              "\n",
              "  .colab-df-quickchart-complete:disabled,\n",
              "  .colab-df-quickchart-complete:disabled:hover {\n",
              "    background-color: var(--disabled-bg-color);\n",
              "    fill: var(--disabled-fill-color);\n",
              "    box-shadow: none;\n",
              "  }\n",
              "\n",
              "  .colab-df-spinner {\n",
              "    border: 2px solid var(--fill-color);\n",
              "    border-color: transparent;\n",
              "    border-bottom-color: var(--fill-color);\n",
              "    animation:\n",
              "      spin 1s steps(1) infinite;\n",
              "  }\n",
              "\n",
              "  @keyframes spin {\n",
              "    0% {\n",
              "      border-color: transparent;\n",
              "      border-bottom-color: var(--fill-color);\n",
              "      border-left-color: var(--fill-color);\n",
              "    }\n",
              "    20% {\n",
              "      border-color: transparent;\n",
              "      border-left-color: var(--fill-color);\n",
              "      border-top-color: var(--fill-color);\n",
              "    }\n",
              "    30% {\n",
              "      border-color: transparent;\n",
              "      border-left-color: var(--fill-color);\n",
              "      border-top-color: var(--fill-color);\n",
              "      border-right-color: var(--fill-color);\n",
              "    }\n",
              "    40% {\n",
              "      border-color: transparent;\n",
              "      border-right-color: var(--fill-color);\n",
              "      border-top-color: var(--fill-color);\n",
              "    }\n",
              "    60% {\n",
              "      border-color: transparent;\n",
              "      border-right-color: var(--fill-color);\n",
              "    }\n",
              "    80% {\n",
              "      border-color: transparent;\n",
              "      border-right-color: var(--fill-color);\n",
              "      border-bottom-color: var(--fill-color);\n",
              "    }\n",
              "    90% {\n",
              "      border-color: transparent;\n",
              "      border-bottom-color: var(--fill-color);\n",
              "    }\n",
              "  }\n",
              "</style>\n",
              "\n",
              "      <script>\n",
              "        async function quickchart(key) {\n",
              "          const quickchartButtonEl =\n",
              "            document.querySelector('#' + key + ' button');\n",
              "          quickchartButtonEl.disabled = true;  // To prevent multiple clicks.\n",
              "          quickchartButtonEl.classList.add('colab-df-spinner');\n",
              "          try {\n",
              "            const charts = await google.colab.kernel.invokeFunction(\n",
              "                'suggestCharts', [key], {});\n",
              "          } catch (error) {\n",
              "            console.error('Error during call to suggestCharts:', error);\n",
              "          }\n",
              "          quickchartButtonEl.classList.remove('colab-df-spinner');\n",
              "          quickchartButtonEl.classList.add('colab-df-quickchart-complete');\n",
              "        }\n",
              "        (() => {\n",
              "          let quickchartButtonEl =\n",
              "            document.querySelector('#df-a4f4ba6a-5c4a-43e8-ace5-c6b586a78120 button');\n",
              "          quickchartButtonEl.style.display =\n",
              "            google.colab.kernel.accessAllowed ? 'block' : 'none';\n",
              "        })();\n",
              "      </script>\n",
              "    </div>\n",
              "\n",
              "    </div>\n",
              "  </div>\n"
            ],
            "application/vnd.google.colaboratory.intrinsic+json": {
              "type": "dataframe",
              "variable_name": "df",
              "summary": "{\n  \"name\": \"df\",\n  \"rows\": 10000,\n  \"fields\": [\n    {\n      \"column\": \"RowNumber\",\n      \"properties\": {\n        \"dtype\": \"number\",\n        \"std\": 2886,\n        \"min\": 1,\n        \"max\": 10000,\n        \"num_unique_values\": 10000,\n        \"samples\": [\n          6253,\n          4685,\n          1732\n        ],\n        \"semantic_type\": \"\",\n        \"description\": \"\"\n      }\n    },\n    {\n      \"column\": \"CustomerId\",\n      \"properties\": {\n        \"dtype\": \"number\",\n        \"std\": 71936,\n        \"min\": 15565701,\n        \"max\": 15815690,\n        \"num_unique_values\": 10000,\n        \"samples\": [\n          15687492,\n          15736963,\n          15721730\n        ],\n        \"semantic_type\": \"\",\n        \"description\": \"\"\n      }\n    },\n    {\n      \"column\": \"Surname\",\n      \"properties\": {\n        \"dtype\": \"category\",\n        \"num_unique_values\": 2932,\n        \"samples\": [\n          \"McGuirk\",\n          \"Torkelson\",\n          \"Rapuluchukwu\"\n        ],\n        \"semantic_type\": \"\",\n        \"description\": \"\"\n      }\n    },\n    {\n      \"column\": \"CreditScore\",\n      \"properties\": {\n        \"dtype\": \"number\",\n        \"std\": 96,\n        \"min\": 350,\n        \"max\": 850,\n        \"num_unique_values\": 460,\n        \"samples\": [\n          754,\n          533,\n          744\n        ],\n        \"semantic_type\": \"\",\n        \"description\": \"\"\n      }\n    },\n    {\n      \"column\": \"Geography\",\n      \"properties\": {\n        \"dtype\": \"category\",\n        \"num_unique_values\": 3,\n        \"samples\": [\n          \"France\",\n          \"Spain\",\n          \"Germany\"\n        ],\n        \"semantic_type\": \"\",\n        \"description\": \"\"\n      }\n    },\n    {\n      \"column\": \"Gender\",\n      \"properties\": {\n        \"dtype\": \"category\",\n        \"num_unique_values\": 2,\n        \"samples\": [\n          \"Male\",\n          \"Female\"\n        ],\n        \"semantic_type\": \"\",\n        \"description\": \"\"\n      }\n    },\n    {\n      \"column\": \"Age\",\n      \"properties\": {\n        \"dtype\": \"number\",\n        \"std\": 10,\n        \"min\": 18,\n        \"max\": 92,\n        \"num_unique_values\": 70,\n        \"samples\": [\n          61,\n          42\n        ],\n        \"semantic_type\": \"\",\n        \"description\": \"\"\n      }\n    },\n    {\n      \"column\": \"Tenure\",\n      \"properties\": {\n        \"dtype\": \"number\",\n        \"std\": 2,\n        \"min\": 0,\n        \"max\": 10,\n        \"num_unique_values\": 11,\n        \"samples\": [\n          6,\n          2\n        ],\n        \"semantic_type\": \"\",\n        \"description\": \"\"\n      }\n    },\n    {\n      \"column\": \"Balance\",\n      \"properties\": {\n        \"dtype\": \"number\",\n        \"std\": 62397.40520238623,\n        \"min\": 0.0,\n        \"max\": 250898.09,\n        \"num_unique_values\": 6382,\n        \"samples\": [\n          117707.18,\n          133050.97\n        ],\n        \"semantic_type\": \"\",\n        \"description\": \"\"\n      }\n    },\n    {\n      \"column\": \"NumOfProducts\",\n      \"properties\": {\n        \"dtype\": \"number\",\n        \"std\": 0,\n        \"min\": 1,\n        \"max\": 4,\n        \"num_unique_values\": 4,\n        \"samples\": [\n          3,\n          4\n        ],\n        \"semantic_type\": \"\",\n        \"description\": \"\"\n      }\n    },\n    {\n      \"column\": \"HasCrCard\",\n      \"properties\": {\n        \"dtype\": \"number\",\n        \"std\": 0,\n        \"min\": 0,\n        \"max\": 1,\n        \"num_unique_values\": 2,\n        \"samples\": [\n          0,\n          1\n        ],\n        \"semantic_type\": \"\",\n        \"description\": \"\"\n      }\n    },\n    {\n      \"column\": \"IsActiveMember\",\n      \"properties\": {\n        \"dtype\": \"number\",\n        \"std\": 0,\n        \"min\": 0,\n        \"max\": 1,\n        \"num_unique_values\": 2,\n        \"samples\": [\n          0,\n          1\n        ],\n        \"semantic_type\": \"\",\n        \"description\": \"\"\n      }\n    },\n    {\n      \"column\": \"EstimatedSalary\",\n      \"properties\": {\n        \"dtype\": \"number\",\n        \"std\": 57510.49281769822,\n        \"min\": 11.58,\n        \"max\": 199992.48,\n        \"num_unique_values\": 9999,\n        \"samples\": [\n          100809.99,\n          95273.73\n        ],\n        \"semantic_type\": \"\",\n        \"description\": \"\"\n      }\n    },\n    {\n      \"column\": \"Exited\",\n      \"properties\": {\n        \"dtype\": \"number\",\n        \"std\": 0,\n        \"min\": 0,\n        \"max\": 1,\n        \"num_unique_values\": 2,\n        \"samples\": [\n          0,\n          1\n        ],\n        \"semantic_type\": \"\",\n        \"description\": \"\"\n      }\n    }\n  ]\n}"
            }
          },
          "metadata": {},
          "execution_count": 3
        }
      ]
    },
    {
      "cell_type": "code",
      "source": [
        "df.info()"
      ],
      "metadata": {
        "colab": {
          "base_uri": "https://localhost:8080/"
        },
        "id": "HyxFzvYMvwG2",
        "outputId": "44f5d665-ef97-451b-abda-dc3ba2a5cc22"
      },
      "execution_count": null,
      "outputs": [
        {
          "output_type": "stream",
          "name": "stdout",
          "text": [
            "<class 'pandas.core.frame.DataFrame'>\n",
            "RangeIndex: 10000 entries, 0 to 9999\n",
            "Data columns (total 14 columns):\n",
            " #   Column           Non-Null Count  Dtype  \n",
            "---  ------           --------------  -----  \n",
            " 0   RowNumber        10000 non-null  int64  \n",
            " 1   CustomerId       10000 non-null  int64  \n",
            " 2   Surname          10000 non-null  object \n",
            " 3   CreditScore      10000 non-null  int64  \n",
            " 4   Geography        10000 non-null  object \n",
            " 5   Gender           10000 non-null  object \n",
            " 6   Age              10000 non-null  int64  \n",
            " 7   Tenure           10000 non-null  int64  \n",
            " 8   Balance          10000 non-null  float64\n",
            " 9   NumOfProducts    10000 non-null  int64  \n",
            " 10  HasCrCard        10000 non-null  int64  \n",
            " 11  IsActiveMember   10000 non-null  int64  \n",
            " 12  EstimatedSalary  10000 non-null  float64\n",
            " 13  Exited           10000 non-null  int64  \n",
            "dtypes: float64(2), int64(9), object(3)\n",
            "memory usage: 1.1+ MB\n"
          ]
        }
      ]
    },
    {
      "cell_type": "code",
      "source": [
        "df['Geography'].value_counts()"
      ],
      "metadata": {
        "colab": {
          "base_uri": "https://localhost:8080/",
          "height": 210
        },
        "id": "PqjtfiACv-6G",
        "outputId": "1a6c3a11-69ba-43fe-d6e9-e5f65cda635f"
      },
      "execution_count": null,
      "outputs": [
        {
          "output_type": "execute_result",
          "data": {
            "text/plain": [
              "Geography\n",
              "France     5014\n",
              "Germany    2509\n",
              "Spain      2477\n",
              "Name: count, dtype: int64"
            ],
            "text/html": [
              "<div>\n",
              "<style scoped>\n",
              "    .dataframe tbody tr th:only-of-type {\n",
              "        vertical-align: middle;\n",
              "    }\n",
              "\n",
              "    .dataframe tbody tr th {\n",
              "        vertical-align: top;\n",
              "    }\n",
              "\n",
              "    .dataframe thead th {\n",
              "        text-align: right;\n",
              "    }\n",
              "</style>\n",
              "<table border=\"1\" class=\"dataframe\">\n",
              "  <thead>\n",
              "    <tr style=\"text-align: right;\">\n",
              "      <th></th>\n",
              "      <th>count</th>\n",
              "    </tr>\n",
              "    <tr>\n",
              "      <th>Geography</th>\n",
              "      <th></th>\n",
              "    </tr>\n",
              "  </thead>\n",
              "  <tbody>\n",
              "    <tr>\n",
              "      <th>France</th>\n",
              "      <td>5014</td>\n",
              "    </tr>\n",
              "    <tr>\n",
              "      <th>Germany</th>\n",
              "      <td>2509</td>\n",
              "    </tr>\n",
              "    <tr>\n",
              "      <th>Spain</th>\n",
              "      <td>2477</td>\n",
              "    </tr>\n",
              "  </tbody>\n",
              "</table>\n",
              "</div><br><label><b>dtype:</b> int64</label>"
            ]
          },
          "metadata": {},
          "execution_count": 5
        }
      ]
    },
    {
      "cell_type": "code",
      "source": [
        "df['Gender'].value_counts()"
      ],
      "metadata": {
        "colab": {
          "base_uri": "https://localhost:8080/",
          "height": 178
        },
        "id": "IxozTzCHwHKF",
        "outputId": "eb59b3a3-e42e-4b77-949d-92b17cc937c7"
      },
      "execution_count": null,
      "outputs": [
        {
          "output_type": "execute_result",
          "data": {
            "text/plain": [
              "Gender\n",
              "Male      5457\n",
              "Female    4543\n",
              "Name: count, dtype: int64"
            ],
            "text/html": [
              "<div>\n",
              "<style scoped>\n",
              "    .dataframe tbody tr th:only-of-type {\n",
              "        vertical-align: middle;\n",
              "    }\n",
              "\n",
              "    .dataframe tbody tr th {\n",
              "        vertical-align: top;\n",
              "    }\n",
              "\n",
              "    .dataframe thead th {\n",
              "        text-align: right;\n",
              "    }\n",
              "</style>\n",
              "<table border=\"1\" class=\"dataframe\">\n",
              "  <thead>\n",
              "    <tr style=\"text-align: right;\">\n",
              "      <th></th>\n",
              "      <th>count</th>\n",
              "    </tr>\n",
              "    <tr>\n",
              "      <th>Gender</th>\n",
              "      <th></th>\n",
              "    </tr>\n",
              "  </thead>\n",
              "  <tbody>\n",
              "    <tr>\n",
              "      <th>Male</th>\n",
              "      <td>5457</td>\n",
              "    </tr>\n",
              "    <tr>\n",
              "      <th>Female</th>\n",
              "      <td>4543</td>\n",
              "    </tr>\n",
              "  </tbody>\n",
              "</table>\n",
              "</div><br><label><b>dtype:</b> int64</label>"
            ]
          },
          "metadata": {},
          "execution_count": 7
        }
      ]
    },
    {
      "cell_type": "code",
      "source": [
        "df['Exited'].value_counts()"
      ],
      "metadata": {
        "colab": {
          "base_uri": "https://localhost:8080/",
          "height": 178
        },
        "id": "q4PrngnvwLP9",
        "outputId": "167e69a7-6e3a-4266-f44d-c4e77328ec5a"
      },
      "execution_count": null,
      "outputs": [
        {
          "output_type": "execute_result",
          "data": {
            "text/plain": [
              "Exited\n",
              "0    7963\n",
              "1    2037\n",
              "Name: count, dtype: int64"
            ],
            "text/html": [
              "<div>\n",
              "<style scoped>\n",
              "    .dataframe tbody tr th:only-of-type {\n",
              "        vertical-align: middle;\n",
              "    }\n",
              "\n",
              "    .dataframe tbody tr th {\n",
              "        vertical-align: top;\n",
              "    }\n",
              "\n",
              "    .dataframe thead th {\n",
              "        text-align: right;\n",
              "    }\n",
              "</style>\n",
              "<table border=\"1\" class=\"dataframe\">\n",
              "  <thead>\n",
              "    <tr style=\"text-align: right;\">\n",
              "      <th></th>\n",
              "      <th>count</th>\n",
              "    </tr>\n",
              "    <tr>\n",
              "      <th>Exited</th>\n",
              "      <th></th>\n",
              "    </tr>\n",
              "  </thead>\n",
              "  <tbody>\n",
              "    <tr>\n",
              "      <th>0</th>\n",
              "      <td>7963</td>\n",
              "    </tr>\n",
              "    <tr>\n",
              "      <th>1</th>\n",
              "      <td>2037</td>\n",
              "    </tr>\n",
              "  </tbody>\n",
              "</table>\n",
              "</div><br><label><b>dtype:</b> int64</label>"
            ]
          },
          "metadata": {},
          "execution_count": 8
        }
      ]
    },
    {
      "cell_type": "code",
      "source": [
        "df.columns"
      ],
      "metadata": {
        "colab": {
          "base_uri": "https://localhost:8080/"
        },
        "id": "zwWR_R7qwT9r",
        "outputId": "b559ccac-cbc0-4c7b-a4b2-e68e36e90f3f"
      },
      "execution_count": null,
      "outputs": [
        {
          "output_type": "execute_result",
          "data": {
            "text/plain": [
              "Index(['RowNumber', 'CustomerId', 'Surname', 'CreditScore', 'Geography',\n",
              "       'Gender', 'Age', 'Tenure', 'Balance', 'NumOfProducts', 'HasCrCard',\n",
              "       'IsActiveMember', 'EstimatedSalary', 'Exited'],\n",
              "      dtype='object')"
            ]
          },
          "metadata": {},
          "execution_count": 9
        }
      ]
    },
    {
      "cell_type": "code",
      "source": [
        "df.drop(columns = ['RowNumber','CustomerId','Surname'], inplace = True)\n",
        "df.columns"
      ],
      "metadata": {
        "colab": {
          "base_uri": "https://localhost:8080/"
        },
        "id": "pK4F9jAmwYXJ",
        "outputId": "70858e24-6aa4-4ad5-fec7-8c79836d3e01"
      },
      "execution_count": null,
      "outputs": [
        {
          "output_type": "execute_result",
          "data": {
            "text/plain": [
              "Index(['CreditScore', 'Geography', 'Gender', 'Age', 'Tenure', 'Balance',\n",
              "       'NumOfProducts', 'HasCrCard', 'IsActiveMember', 'EstimatedSalary',\n",
              "       'Exited'],\n",
              "      dtype='object')"
            ]
          },
          "metadata": {},
          "execution_count": 10
        }
      ]
    },
    {
      "cell_type": "code",
      "source": [
        "df = pd.get_dummies(df, columns = ['Geography','Gender'], drop_first = True)\n",
        "df.columns"
      ],
      "metadata": {
        "colab": {
          "base_uri": "https://localhost:8080/"
        },
        "id": "z3YH1V_pwytc",
        "outputId": "511d3d2e-69e5-4e38-9958-e234c2345e5f"
      },
      "execution_count": null,
      "outputs": [
        {
          "output_type": "execute_result",
          "data": {
            "text/plain": [
              "Index(['CreditScore', 'Age', 'Tenure', 'Balance', 'NumOfProducts', 'HasCrCard',\n",
              "       'IsActiveMember', 'EstimatedSalary', 'Exited', 'Geography_Germany',\n",
              "       'Geography_Spain', 'Gender_Male'],\n",
              "      dtype='object')"
            ]
          },
          "metadata": {},
          "execution_count": 11
        }
      ]
    },
    {
      "cell_type": "code",
      "source": [
        "df.head()"
      ],
      "metadata": {
        "colab": {
          "base_uri": "https://localhost:8080/",
          "height": 226
        },
        "id": "ZWithRemxH-N",
        "outputId": "831721da-587a-4452-f110-497d2ceed23a"
      },
      "execution_count": null,
      "outputs": [
        {
          "output_type": "execute_result",
          "data": {
            "text/plain": [
              "   CreditScore  Age  Tenure    Balance  NumOfProducts  HasCrCard  \\\n",
              "0          619   42       2       0.00              1          1   \n",
              "1          608   41       1   83807.86              1          0   \n",
              "2          502   42       8  159660.80              3          1   \n",
              "3          699   39       1       0.00              2          0   \n",
              "4          850   43       2  125510.82              1          1   \n",
              "\n",
              "   IsActiveMember  EstimatedSalary  Exited  Geography_Germany  \\\n",
              "0               1        101348.88       1              False   \n",
              "1               1        112542.58       0              False   \n",
              "2               0        113931.57       1              False   \n",
              "3               0         93826.63       0              False   \n",
              "4               1         79084.10       0              False   \n",
              "\n",
              "   Geography_Spain  Gender_Male  \n",
              "0            False        False  \n",
              "1             True        False  \n",
              "2            False        False  \n",
              "3            False        False  \n",
              "4             True        False  "
            ],
            "text/html": [
              "\n",
              "  <div id=\"df-cfed5777-c4ea-491f-8134-981be861eb05\" class=\"colab-df-container\">\n",
              "    <div>\n",
              "<style scoped>\n",
              "    .dataframe tbody tr th:only-of-type {\n",
              "        vertical-align: middle;\n",
              "    }\n",
              "\n",
              "    .dataframe tbody tr th {\n",
              "        vertical-align: top;\n",
              "    }\n",
              "\n",
              "    .dataframe thead th {\n",
              "        text-align: right;\n",
              "    }\n",
              "</style>\n",
              "<table border=\"1\" class=\"dataframe\">\n",
              "  <thead>\n",
              "    <tr style=\"text-align: right;\">\n",
              "      <th></th>\n",
              "      <th>CreditScore</th>\n",
              "      <th>Age</th>\n",
              "      <th>Tenure</th>\n",
              "      <th>Balance</th>\n",
              "      <th>NumOfProducts</th>\n",
              "      <th>HasCrCard</th>\n",
              "      <th>IsActiveMember</th>\n",
              "      <th>EstimatedSalary</th>\n",
              "      <th>Exited</th>\n",
              "      <th>Geography_Germany</th>\n",
              "      <th>Geography_Spain</th>\n",
              "      <th>Gender_Male</th>\n",
              "    </tr>\n",
              "  </thead>\n",
              "  <tbody>\n",
              "    <tr>\n",
              "      <th>0</th>\n",
              "      <td>619</td>\n",
              "      <td>42</td>\n",
              "      <td>2</td>\n",
              "      <td>0.00</td>\n",
              "      <td>1</td>\n",
              "      <td>1</td>\n",
              "      <td>1</td>\n",
              "      <td>101348.88</td>\n",
              "      <td>1</td>\n",
              "      <td>False</td>\n",
              "      <td>False</td>\n",
              "      <td>False</td>\n",
              "    </tr>\n",
              "    <tr>\n",
              "      <th>1</th>\n",
              "      <td>608</td>\n",
              "      <td>41</td>\n",
              "      <td>1</td>\n",
              "      <td>83807.86</td>\n",
              "      <td>1</td>\n",
              "      <td>0</td>\n",
              "      <td>1</td>\n",
              "      <td>112542.58</td>\n",
              "      <td>0</td>\n",
              "      <td>False</td>\n",
              "      <td>True</td>\n",
              "      <td>False</td>\n",
              "    </tr>\n",
              "    <tr>\n",
              "      <th>2</th>\n",
              "      <td>502</td>\n",
              "      <td>42</td>\n",
              "      <td>8</td>\n",
              "      <td>159660.80</td>\n",
              "      <td>3</td>\n",
              "      <td>1</td>\n",
              "      <td>0</td>\n",
              "      <td>113931.57</td>\n",
              "      <td>1</td>\n",
              "      <td>False</td>\n",
              "      <td>False</td>\n",
              "      <td>False</td>\n",
              "    </tr>\n",
              "    <tr>\n",
              "      <th>3</th>\n",
              "      <td>699</td>\n",
              "      <td>39</td>\n",
              "      <td>1</td>\n",
              "      <td>0.00</td>\n",
              "      <td>2</td>\n",
              "      <td>0</td>\n",
              "      <td>0</td>\n",
              "      <td>93826.63</td>\n",
              "      <td>0</td>\n",
              "      <td>False</td>\n",
              "      <td>False</td>\n",
              "      <td>False</td>\n",
              "    </tr>\n",
              "    <tr>\n",
              "      <th>4</th>\n",
              "      <td>850</td>\n",
              "      <td>43</td>\n",
              "      <td>2</td>\n",
              "      <td>125510.82</td>\n",
              "      <td>1</td>\n",
              "      <td>1</td>\n",
              "      <td>1</td>\n",
              "      <td>79084.10</td>\n",
              "      <td>0</td>\n",
              "      <td>False</td>\n",
              "      <td>True</td>\n",
              "      <td>False</td>\n",
              "    </tr>\n",
              "  </tbody>\n",
              "</table>\n",
              "</div>\n",
              "    <div class=\"colab-df-buttons\">\n",
              "\n",
              "  <div class=\"colab-df-container\">\n",
              "    <button class=\"colab-df-convert\" onclick=\"convertToInteractive('df-cfed5777-c4ea-491f-8134-981be861eb05')\"\n",
              "            title=\"Convert this dataframe to an interactive table.\"\n",
              "            style=\"display:none;\">\n",
              "\n",
              "  <svg xmlns=\"http://www.w3.org/2000/svg\" height=\"24px\" viewBox=\"0 -960 960 960\">\n",
              "    <path d=\"M120-120v-720h720v720H120Zm60-500h600v-160H180v160Zm220 220h160v-160H400v160Zm0 220h160v-160H400v160ZM180-400h160v-160H180v160Zm440 0h160v-160H620v160ZM180-180h160v-160H180v160Zm440 0h160v-160H620v160Z\"/>\n",
              "  </svg>\n",
              "    </button>\n",
              "\n",
              "  <style>\n",
              "    .colab-df-container {\n",
              "      display:flex;\n",
              "      gap: 12px;\n",
              "    }\n",
              "\n",
              "    .colab-df-convert {\n",
              "      background-color: #E8F0FE;\n",
              "      border: none;\n",
              "      border-radius: 50%;\n",
              "      cursor: pointer;\n",
              "      display: none;\n",
              "      fill: #1967D2;\n",
              "      height: 32px;\n",
              "      padding: 0 0 0 0;\n",
              "      width: 32px;\n",
              "    }\n",
              "\n",
              "    .colab-df-convert:hover {\n",
              "      background-color: #E2EBFA;\n",
              "      box-shadow: 0px 1px 2px rgba(60, 64, 67, 0.3), 0px 1px 3px 1px rgba(60, 64, 67, 0.15);\n",
              "      fill: #174EA6;\n",
              "    }\n",
              "\n",
              "    .colab-df-buttons div {\n",
              "      margin-bottom: 4px;\n",
              "    }\n",
              "\n",
              "    [theme=dark] .colab-df-convert {\n",
              "      background-color: #3B4455;\n",
              "      fill: #D2E3FC;\n",
              "    }\n",
              "\n",
              "    [theme=dark] .colab-df-convert:hover {\n",
              "      background-color: #434B5C;\n",
              "      box-shadow: 0px 1px 3px 1px rgba(0, 0, 0, 0.15);\n",
              "      filter: drop-shadow(0px 1px 2px rgba(0, 0, 0, 0.3));\n",
              "      fill: #FFFFFF;\n",
              "    }\n",
              "  </style>\n",
              "\n",
              "    <script>\n",
              "      const buttonEl =\n",
              "        document.querySelector('#df-cfed5777-c4ea-491f-8134-981be861eb05 button.colab-df-convert');\n",
              "      buttonEl.style.display =\n",
              "        google.colab.kernel.accessAllowed ? 'block' : 'none';\n",
              "\n",
              "      async function convertToInteractive(key) {\n",
              "        const element = document.querySelector('#df-cfed5777-c4ea-491f-8134-981be861eb05');\n",
              "        const dataTable =\n",
              "          await google.colab.kernel.invokeFunction('convertToInteractive',\n",
              "                                                    [key], {});\n",
              "        if (!dataTable) return;\n",
              "\n",
              "        const docLinkHtml = 'Like what you see? Visit the ' +\n",
              "          '<a target=\"_blank\" href=https://colab.research.google.com/notebooks/data_table.ipynb>data table notebook</a>'\n",
              "          + ' to learn more about interactive tables.';\n",
              "        element.innerHTML = '';\n",
              "        dataTable['output_type'] = 'display_data';\n",
              "        await google.colab.output.renderOutput(dataTable, element);\n",
              "        const docLink = document.createElement('div');\n",
              "        docLink.innerHTML = docLinkHtml;\n",
              "        element.appendChild(docLink);\n",
              "      }\n",
              "    </script>\n",
              "  </div>\n",
              "\n",
              "\n",
              "    <div id=\"df-13f45818-a103-434d-9409-335dbd5de029\">\n",
              "      <button class=\"colab-df-quickchart\" onclick=\"quickchart('df-13f45818-a103-434d-9409-335dbd5de029')\"\n",
              "                title=\"Suggest charts\"\n",
              "                style=\"display:none;\">\n",
              "\n",
              "<svg xmlns=\"http://www.w3.org/2000/svg\" height=\"24px\"viewBox=\"0 0 24 24\"\n",
              "     width=\"24px\">\n",
              "    <g>\n",
              "        <path d=\"M19 3H5c-1.1 0-2 .9-2 2v14c0 1.1.9 2 2 2h14c1.1 0 2-.9 2-2V5c0-1.1-.9-2-2-2zM9 17H7v-7h2v7zm4 0h-2V7h2v10zm4 0h-2v-4h2v4z\"/>\n",
              "    </g>\n",
              "</svg>\n",
              "      </button>\n",
              "\n",
              "<style>\n",
              "  .colab-df-quickchart {\n",
              "      --bg-color: #E8F0FE;\n",
              "      --fill-color: #1967D2;\n",
              "      --hover-bg-color: #E2EBFA;\n",
              "      --hover-fill-color: #174EA6;\n",
              "      --disabled-fill-color: #AAA;\n",
              "      --disabled-bg-color: #DDD;\n",
              "  }\n",
              "\n",
              "  [theme=dark] .colab-df-quickchart {\n",
              "      --bg-color: #3B4455;\n",
              "      --fill-color: #D2E3FC;\n",
              "      --hover-bg-color: #434B5C;\n",
              "      --hover-fill-color: #FFFFFF;\n",
              "      --disabled-bg-color: #3B4455;\n",
              "      --disabled-fill-color: #666;\n",
              "  }\n",
              "\n",
              "  .colab-df-quickchart {\n",
              "    background-color: var(--bg-color);\n",
              "    border: none;\n",
              "    border-radius: 50%;\n",
              "    cursor: pointer;\n",
              "    display: none;\n",
              "    fill: var(--fill-color);\n",
              "    height: 32px;\n",
              "    padding: 0;\n",
              "    width: 32px;\n",
              "  }\n",
              "\n",
              "  .colab-df-quickchart:hover {\n",
              "    background-color: var(--hover-bg-color);\n",
              "    box-shadow: 0 1px 2px rgba(60, 64, 67, 0.3), 0 1px 3px 1px rgba(60, 64, 67, 0.15);\n",
              "    fill: var(--button-hover-fill-color);\n",
              "  }\n",
              "\n",
              "  .colab-df-quickchart-complete:disabled,\n",
              "  .colab-df-quickchart-complete:disabled:hover {\n",
              "    background-color: var(--disabled-bg-color);\n",
              "    fill: var(--disabled-fill-color);\n",
              "    box-shadow: none;\n",
              "  }\n",
              "\n",
              "  .colab-df-spinner {\n",
              "    border: 2px solid var(--fill-color);\n",
              "    border-color: transparent;\n",
              "    border-bottom-color: var(--fill-color);\n",
              "    animation:\n",
              "      spin 1s steps(1) infinite;\n",
              "  }\n",
              "\n",
              "  @keyframes spin {\n",
              "    0% {\n",
              "      border-color: transparent;\n",
              "      border-bottom-color: var(--fill-color);\n",
              "      border-left-color: var(--fill-color);\n",
              "    }\n",
              "    20% {\n",
              "      border-color: transparent;\n",
              "      border-left-color: var(--fill-color);\n",
              "      border-top-color: var(--fill-color);\n",
              "    }\n",
              "    30% {\n",
              "      border-color: transparent;\n",
              "      border-left-color: var(--fill-color);\n",
              "      border-top-color: var(--fill-color);\n",
              "      border-right-color: var(--fill-color);\n",
              "    }\n",
              "    40% {\n",
              "      border-color: transparent;\n",
              "      border-right-color: var(--fill-color);\n",
              "      border-top-color: var(--fill-color);\n",
              "    }\n",
              "    60% {\n",
              "      border-color: transparent;\n",
              "      border-right-color: var(--fill-color);\n",
              "    }\n",
              "    80% {\n",
              "      border-color: transparent;\n",
              "      border-right-color: var(--fill-color);\n",
              "      border-bottom-color: var(--fill-color);\n",
              "    }\n",
              "    90% {\n",
              "      border-color: transparent;\n",
              "      border-bottom-color: var(--fill-color);\n",
              "    }\n",
              "  }\n",
              "</style>\n",
              "\n",
              "      <script>\n",
              "        async function quickchart(key) {\n",
              "          const quickchartButtonEl =\n",
              "            document.querySelector('#' + key + ' button');\n",
              "          quickchartButtonEl.disabled = true;  // To prevent multiple clicks.\n",
              "          quickchartButtonEl.classList.add('colab-df-spinner');\n",
              "          try {\n",
              "            const charts = await google.colab.kernel.invokeFunction(\n",
              "                'suggestCharts', [key], {});\n",
              "          } catch (error) {\n",
              "            console.error('Error during call to suggestCharts:', error);\n",
              "          }\n",
              "          quickchartButtonEl.classList.remove('colab-df-spinner');\n",
              "          quickchartButtonEl.classList.add('colab-df-quickchart-complete');\n",
              "        }\n",
              "        (() => {\n",
              "          let quickchartButtonEl =\n",
              "            document.querySelector('#df-13f45818-a103-434d-9409-335dbd5de029 button');\n",
              "          quickchartButtonEl.style.display =\n",
              "            google.colab.kernel.accessAllowed ? 'block' : 'none';\n",
              "        })();\n",
              "      </script>\n",
              "    </div>\n",
              "\n",
              "    </div>\n",
              "  </div>\n"
            ],
            "application/vnd.google.colaboratory.intrinsic+json": {
              "type": "dataframe",
              "variable_name": "df",
              "summary": "{\n  \"name\": \"df\",\n  \"rows\": 10000,\n  \"fields\": [\n    {\n      \"column\": \"CreditScore\",\n      \"properties\": {\n        \"dtype\": \"number\",\n        \"std\": 96,\n        \"min\": 350,\n        \"max\": 850,\n        \"num_unique_values\": 460,\n        \"samples\": [\n          754,\n          533,\n          744\n        ],\n        \"semantic_type\": \"\",\n        \"description\": \"\"\n      }\n    },\n    {\n      \"column\": \"Age\",\n      \"properties\": {\n        \"dtype\": \"number\",\n        \"std\": 10,\n        \"min\": 18,\n        \"max\": 92,\n        \"num_unique_values\": 70,\n        \"samples\": [\n          61,\n          42,\n          59\n        ],\n        \"semantic_type\": \"\",\n        \"description\": \"\"\n      }\n    },\n    {\n      \"column\": \"Tenure\",\n      \"properties\": {\n        \"dtype\": \"number\",\n        \"std\": 2,\n        \"min\": 0,\n        \"max\": 10,\n        \"num_unique_values\": 11,\n        \"samples\": [\n          6,\n          2,\n          9\n        ],\n        \"semantic_type\": \"\",\n        \"description\": \"\"\n      }\n    },\n    {\n      \"column\": \"Balance\",\n      \"properties\": {\n        \"dtype\": \"number\",\n        \"std\": 62397.40520238623,\n        \"min\": 0.0,\n        \"max\": 250898.09,\n        \"num_unique_values\": 6382,\n        \"samples\": [\n          117707.18,\n          133050.97,\n          124271.26\n        ],\n        \"semantic_type\": \"\",\n        \"description\": \"\"\n      }\n    },\n    {\n      \"column\": \"NumOfProducts\",\n      \"properties\": {\n        \"dtype\": \"number\",\n        \"std\": 0,\n        \"min\": 1,\n        \"max\": 4,\n        \"num_unique_values\": 4,\n        \"samples\": [\n          3,\n          4,\n          1\n        ],\n        \"semantic_type\": \"\",\n        \"description\": \"\"\n      }\n    },\n    {\n      \"column\": \"HasCrCard\",\n      \"properties\": {\n        \"dtype\": \"number\",\n        \"std\": 0,\n        \"min\": 0,\n        \"max\": 1,\n        \"num_unique_values\": 2,\n        \"samples\": [\n          0,\n          1\n        ],\n        \"semantic_type\": \"\",\n        \"description\": \"\"\n      }\n    },\n    {\n      \"column\": \"IsActiveMember\",\n      \"properties\": {\n        \"dtype\": \"number\",\n        \"std\": 0,\n        \"min\": 0,\n        \"max\": 1,\n        \"num_unique_values\": 2,\n        \"samples\": [\n          0,\n          1\n        ],\n        \"semantic_type\": \"\",\n        \"description\": \"\"\n      }\n    },\n    {\n      \"column\": \"EstimatedSalary\",\n      \"properties\": {\n        \"dtype\": \"number\",\n        \"std\": 57510.49281769822,\n        \"min\": 11.58,\n        \"max\": 199992.48,\n        \"num_unique_values\": 9999,\n        \"samples\": [\n          100809.99,\n          95273.73\n        ],\n        \"semantic_type\": \"\",\n        \"description\": \"\"\n      }\n    },\n    {\n      \"column\": \"Exited\",\n      \"properties\": {\n        \"dtype\": \"number\",\n        \"std\": 0,\n        \"min\": 0,\n        \"max\": 1,\n        \"num_unique_values\": 2,\n        \"samples\": [\n          0,\n          1\n        ],\n        \"semantic_type\": \"\",\n        \"description\": \"\"\n      }\n    },\n    {\n      \"column\": \"Geography_Germany\",\n      \"properties\": {\n        \"dtype\": \"boolean\",\n        \"num_unique_values\": 2,\n        \"samples\": [\n          true,\n          false\n        ],\n        \"semantic_type\": \"\",\n        \"description\": \"\"\n      }\n    },\n    {\n      \"column\": \"Geography_Spain\",\n      \"properties\": {\n        \"dtype\": \"boolean\",\n        \"num_unique_values\": 2,\n        \"samples\": [\n          true,\n          false\n        ],\n        \"semantic_type\": \"\",\n        \"description\": \"\"\n      }\n    },\n    {\n      \"column\": \"Gender_Male\",\n      \"properties\": {\n        \"dtype\": \"boolean\",\n        \"num_unique_values\": 2,\n        \"samples\": [\n          true,\n          false\n        ],\n        \"semantic_type\": \"\",\n        \"description\": \"\"\n      }\n    }\n  ]\n}"
            }
          },
          "metadata": {},
          "execution_count": 12
        }
      ]
    },
    {
      "cell_type": "code",
      "source": [],
      "metadata": {
        "id": "-WcWgTlfxJao"
      },
      "execution_count": null,
      "outputs": []
    },
    {
      "cell_type": "markdown",
      "source": [
        "## **Train test split**"
      ],
      "metadata": {
        "id": "E6P-jhepkxRJ"
      }
    },
    {
      "cell_type": "code",
      "source": [
        "x = df.drop(columns = ['Exited'])\n",
        "y = df['Exited']"
      ],
      "metadata": {
        "id": "X7o-Bs92xPHv"
      },
      "execution_count": null,
      "outputs": []
    },
    {
      "cell_type": "code",
      "source": [
        "x_train, x_test, y_train, y_test = train_test_split(x,y, test_size = 0.2, random_state = 0)"
      ],
      "metadata": {
        "id": "Fm5K5VJjxQzd"
      },
      "execution_count": null,
      "outputs": []
    },
    {
      "cell_type": "code",
      "source": [
        "scaler = StandardScaler()\n",
        "x_train = scaler.fit_transform(x_train)\n",
        "x_test = scaler.transform(x_test)"
      ],
      "metadata": {
        "id": "SAPQdWRXxSY7"
      },
      "execution_count": null,
      "outputs": []
    },
    {
      "cell_type": "markdown",
      "source": [
        "## **making nural network**"
      ],
      "metadata": {
        "id": "hb5uiCmMmY7x"
      }
    },
    {
      "cell_type": "code",
      "source": [
        "x_train.shape"
      ],
      "metadata": {
        "colab": {
          "base_uri": "https://localhost:8080/"
        },
        "id": "8O3AzQ5Cxcrt",
        "outputId": "a5f54909-7f35-4c52-80e3-70d00ecb20da"
      },
      "execution_count": null,
      "outputs": [
        {
          "output_type": "execute_result",
          "data": {
            "text/plain": [
              "(8000, 11)"
            ]
          },
          "metadata": {},
          "execution_count": 16
        }
      ]
    },
    {
      "cell_type": "code",
      "source": [
        "model = Sequential()\n",
        "\n",
        "model.add(Dense(11, activation= 'relu', input_dim = 11))    #Input\n",
        "model.add(Dense(22, activation= 'relu'))      # Hidden 1\n",
        "model.add(Dense(33, activation= 'relu'))      # Hidden 2\n",
        "model.add(Dense(22, activation= 'relu'))      # Hidden 3\n",
        "model.add(Dense(11, activation= 'relu'))      # Hidden 4\n",
        "model.add(Dense(1, activation= 'sigmoid'))  #Output"
      ],
      "metadata": {
        "colab": {
          "base_uri": "https://localhost:8080/"
        },
        "id": "GWpFqXBcxVlf",
        "outputId": "f4b22ed0-5904-4115-9b9f-9755fcfa3cad"
      },
      "execution_count": null,
      "outputs": [
        {
          "output_type": "stream",
          "name": "stderr",
          "text": [
            "/usr/local/lib/python3.11/dist-packages/keras/src/layers/core/dense.py:87: UserWarning: Do not pass an `input_shape`/`input_dim` argument to a layer. When using Sequential models, prefer using an `Input(shape)` object as the first layer in the model instead.\n",
            "  super().__init__(activity_regularizer=activity_regularizer, **kwargs)\n"
          ]
        }
      ]
    },
    {
      "cell_type": "code",
      "source": [
        "model.summary()"
      ],
      "metadata": {
        "colab": {
          "base_uri": "https://localhost:8080/",
          "height": 327
        },
        "id": "IM7LIvxrx1Ii",
        "outputId": "072863d5-51f9-4643-ccfd-62d72d3b2626"
      },
      "execution_count": null,
      "outputs": [
        {
          "output_type": "display_data",
          "data": {
            "text/plain": [
              "\u001b[1mModel: \"sequential_1\"\u001b[0m\n"
            ],
            "text/html": [
              "<pre style=\"white-space:pre;overflow-x:auto;line-height:normal;font-family:Menlo,'DejaVu Sans Mono',consolas,'Courier New',monospace\"><span style=\"font-weight: bold\">Model: \"sequential_1\"</span>\n",
              "</pre>\n"
            ]
          },
          "metadata": {}
        },
        {
          "output_type": "display_data",
          "data": {
            "text/plain": [
              "┏━━━━━━━━━━━━━━━━━━━━━━━━━━━━━━━━━┳━━━━━━━━━━━━━━━━━━━━━━━━┳━━━━━━━━━━━━━━━┓\n",
              "┃\u001b[1m \u001b[0m\u001b[1mLayer (type)                   \u001b[0m\u001b[1m \u001b[0m┃\u001b[1m \u001b[0m\u001b[1mOutput Shape          \u001b[0m\u001b[1m \u001b[0m┃\u001b[1m \u001b[0m\u001b[1m      Param #\u001b[0m\u001b[1m \u001b[0m┃\n",
              "┡━━━━━━━━━━━━━━━━━━━━━━━━━━━━━━━━━╇━━━━━━━━━━━━━━━━━━━━━━━━╇━━━━━━━━━━━━━━━┩\n",
              "│ dense_3 (\u001b[38;5;33mDense\u001b[0m)                 │ (\u001b[38;5;45mNone\u001b[0m, \u001b[38;5;34m11\u001b[0m)             │           \u001b[38;5;34m132\u001b[0m │\n",
              "├─────────────────────────────────┼────────────────────────┼───────────────┤\n",
              "│ dense_4 (\u001b[38;5;33mDense\u001b[0m)                 │ (\u001b[38;5;45mNone\u001b[0m, \u001b[38;5;34m22\u001b[0m)             │           \u001b[38;5;34m264\u001b[0m │\n",
              "├─────────────────────────────────┼────────────────────────┼───────────────┤\n",
              "│ dense_5 (\u001b[38;5;33mDense\u001b[0m)                 │ (\u001b[38;5;45mNone\u001b[0m, \u001b[38;5;34m33\u001b[0m)             │           \u001b[38;5;34m759\u001b[0m │\n",
              "├─────────────────────────────────┼────────────────────────┼───────────────┤\n",
              "│ dense_6 (\u001b[38;5;33mDense\u001b[0m)                 │ (\u001b[38;5;45mNone\u001b[0m, \u001b[38;5;34m22\u001b[0m)             │           \u001b[38;5;34m748\u001b[0m │\n",
              "├─────────────────────────────────┼────────────────────────┼───────────────┤\n",
              "│ dense_7 (\u001b[38;5;33mDense\u001b[0m)                 │ (\u001b[38;5;45mNone\u001b[0m, \u001b[38;5;34m11\u001b[0m)             │           \u001b[38;5;34m253\u001b[0m │\n",
              "├─────────────────────────────────┼────────────────────────┼───────────────┤\n",
              "│ dense_8 (\u001b[38;5;33mDense\u001b[0m)                 │ (\u001b[38;5;45mNone\u001b[0m, \u001b[38;5;34m1\u001b[0m)              │            \u001b[38;5;34m12\u001b[0m │\n",
              "└─────────────────────────────────┴────────────────────────┴───────────────┘\n"
            ],
            "text/html": [
              "<pre style=\"white-space:pre;overflow-x:auto;line-height:normal;font-family:Menlo,'DejaVu Sans Mono',consolas,'Courier New',monospace\">┏━━━━━━━━━━━━━━━━━━━━━━━━━━━━━━━━━┳━━━━━━━━━━━━━━━━━━━━━━━━┳━━━━━━━━━━━━━━━┓\n",
              "┃<span style=\"font-weight: bold\"> Layer (type)                    </span>┃<span style=\"font-weight: bold\"> Output Shape           </span>┃<span style=\"font-weight: bold\">       Param # </span>┃\n",
              "┡━━━━━━━━━━━━━━━━━━━━━━━━━━━━━━━━━╇━━━━━━━━━━━━━━━━━━━━━━━━╇━━━━━━━━━━━━━━━┩\n",
              "│ dense_3 (<span style=\"color: #0087ff; text-decoration-color: #0087ff\">Dense</span>)                 │ (<span style=\"color: #00d7ff; text-decoration-color: #00d7ff\">None</span>, <span style=\"color: #00af00; text-decoration-color: #00af00\">11</span>)             │           <span style=\"color: #00af00; text-decoration-color: #00af00\">132</span> │\n",
              "├─────────────────────────────────┼────────────────────────┼───────────────┤\n",
              "│ dense_4 (<span style=\"color: #0087ff; text-decoration-color: #0087ff\">Dense</span>)                 │ (<span style=\"color: #00d7ff; text-decoration-color: #00d7ff\">None</span>, <span style=\"color: #00af00; text-decoration-color: #00af00\">22</span>)             │           <span style=\"color: #00af00; text-decoration-color: #00af00\">264</span> │\n",
              "├─────────────────────────────────┼────────────────────────┼───────────────┤\n",
              "│ dense_5 (<span style=\"color: #0087ff; text-decoration-color: #0087ff\">Dense</span>)                 │ (<span style=\"color: #00d7ff; text-decoration-color: #00d7ff\">None</span>, <span style=\"color: #00af00; text-decoration-color: #00af00\">33</span>)             │           <span style=\"color: #00af00; text-decoration-color: #00af00\">759</span> │\n",
              "├─────────────────────────────────┼────────────────────────┼───────────────┤\n",
              "│ dense_6 (<span style=\"color: #0087ff; text-decoration-color: #0087ff\">Dense</span>)                 │ (<span style=\"color: #00d7ff; text-decoration-color: #00d7ff\">None</span>, <span style=\"color: #00af00; text-decoration-color: #00af00\">22</span>)             │           <span style=\"color: #00af00; text-decoration-color: #00af00\">748</span> │\n",
              "├─────────────────────────────────┼────────────────────────┼───────────────┤\n",
              "│ dense_7 (<span style=\"color: #0087ff; text-decoration-color: #0087ff\">Dense</span>)                 │ (<span style=\"color: #00d7ff; text-decoration-color: #00d7ff\">None</span>, <span style=\"color: #00af00; text-decoration-color: #00af00\">11</span>)             │           <span style=\"color: #00af00; text-decoration-color: #00af00\">253</span> │\n",
              "├─────────────────────────────────┼────────────────────────┼───────────────┤\n",
              "│ dense_8 (<span style=\"color: #0087ff; text-decoration-color: #0087ff\">Dense</span>)                 │ (<span style=\"color: #00d7ff; text-decoration-color: #00d7ff\">None</span>, <span style=\"color: #00af00; text-decoration-color: #00af00\">1</span>)              │            <span style=\"color: #00af00; text-decoration-color: #00af00\">12</span> │\n",
              "└─────────────────────────────────┴────────────────────────┴───────────────┘\n",
              "</pre>\n"
            ]
          },
          "metadata": {}
        },
        {
          "output_type": "display_data",
          "data": {
            "text/plain": [
              "\u001b[1m Total params: \u001b[0m\u001b[38;5;34m2,168\u001b[0m (8.47 KB)\n"
            ],
            "text/html": [
              "<pre style=\"white-space:pre;overflow-x:auto;line-height:normal;font-family:Menlo,'DejaVu Sans Mono',consolas,'Courier New',monospace\"><span style=\"font-weight: bold\"> Total params: </span><span style=\"color: #00af00; text-decoration-color: #00af00\">2,168</span> (8.47 KB)\n",
              "</pre>\n"
            ]
          },
          "metadata": {}
        },
        {
          "output_type": "display_data",
          "data": {
            "text/plain": [
              "\u001b[1m Trainable params: \u001b[0m\u001b[38;5;34m2,168\u001b[0m (8.47 KB)\n"
            ],
            "text/html": [
              "<pre style=\"white-space:pre;overflow-x:auto;line-height:normal;font-family:Menlo,'DejaVu Sans Mono',consolas,'Courier New',monospace\"><span style=\"font-weight: bold\"> Trainable params: </span><span style=\"color: #00af00; text-decoration-color: #00af00\">2,168</span> (8.47 KB)\n",
              "</pre>\n"
            ]
          },
          "metadata": {}
        },
        {
          "output_type": "display_data",
          "data": {
            "text/plain": [
              "\u001b[1m Non-trainable params: \u001b[0m\u001b[38;5;34m0\u001b[0m (0.00 B)\n"
            ],
            "text/html": [
              "<pre style=\"white-space:pre;overflow-x:auto;line-height:normal;font-family:Menlo,'DejaVu Sans Mono',consolas,'Courier New',monospace\"><span style=\"font-weight: bold\"> Non-trainable params: </span><span style=\"color: #00af00; text-decoration-color: #00af00\">0</span> (0.00 B)\n",
              "</pre>\n"
            ]
          },
          "metadata": {}
        }
      ]
    },
    {
      "cell_type": "markdown",
      "source": [
        "![image.png](data:image/png;base64,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)"
      ],
      "metadata": {
        "id": "xkHdqKqRfZ51"
      }
    },
    {
      "cell_type": "code",
      "source": [
        "model.compile(optimizer = 'Adam', loss = 'binary_crossentropy', metrics = ['accuracy'])"
      ],
      "metadata": {
        "id": "LN49AENDx3bD"
      },
      "execution_count": null,
      "outputs": []
    },
    {
      "cell_type": "code",
      "source": [
        "model.fit(x_train, y_train, epochs = 100,validation_split=0.2)"
      ],
      "metadata": {
        "colab": {
          "base_uri": "https://localhost:8080/"
        },
        "id": "q_YB1cusyHD7",
        "outputId": "f9434a67-80d8-4d78-8f5a-f5265767f202"
      },
      "execution_count": null,
      "outputs": [
        {
          "output_type": "stream",
          "name": "stdout",
          "text": [
            "Epoch 1/100\n",
            "\u001b[1m200/200\u001b[0m \u001b[32m━━━━━━━━━━━━━━━━━━━━\u001b[0m\u001b[37m\u001b[0m \u001b[1m1s\u001b[0m 4ms/step - accuracy: 0.8594 - loss: 0.3399 - val_accuracy: 0.8587 - val_loss: 0.3611\n",
            "Epoch 2/100\n",
            "\u001b[1m200/200\u001b[0m \u001b[32m━━━━━━━━━━━━━━━━━━━━\u001b[0m\u001b[37m\u001b[0m \u001b[1m1s\u001b[0m 4ms/step - accuracy: 0.8571 - loss: 0.3391 - val_accuracy: 0.8575 - val_loss: 0.3638\n",
            "Epoch 3/100\n",
            "\u001b[1m200/200\u001b[0m \u001b[32m━━━━━━━━━━━━━━━━━━━━\u001b[0m\u001b[37m\u001b[0m \u001b[1m2s\u001b[0m 7ms/step - accuracy: 0.8656 - loss: 0.3279 - val_accuracy: 0.8544 - val_loss: 0.3683\n",
            "Epoch 4/100\n",
            "\u001b[1m200/200\u001b[0m \u001b[32m━━━━━━━━━━━━━━━━━━━━\u001b[0m\u001b[37m\u001b[0m \u001b[1m2s\u001b[0m 7ms/step - accuracy: 0.8678 - loss: 0.3221 - val_accuracy: 0.8550 - val_loss: 0.3607\n",
            "Epoch 5/100\n",
            "\u001b[1m200/200\u001b[0m \u001b[32m━━━━━━━━━━━━━━━━━━━━\u001b[0m\u001b[37m\u001b[0m \u001b[1m2s\u001b[0m 4ms/step - accuracy: 0.8646 - loss: 0.3254 - val_accuracy: 0.8475 - val_loss: 0.3636\n",
            "Epoch 6/100\n",
            "\u001b[1m200/200\u001b[0m \u001b[32m━━━━━━━━━━━━━━━━━━━━\u001b[0m\u001b[37m\u001b[0m \u001b[1m1s\u001b[0m 4ms/step - accuracy: 0.8695 - loss: 0.3273 - val_accuracy: 0.8562 - val_loss: 0.3602\n",
            "Epoch 7/100\n",
            "\u001b[1m200/200\u001b[0m \u001b[32m━━━━━━━━━━━━━━━━━━━━\u001b[0m\u001b[37m\u001b[0m \u001b[1m1s\u001b[0m 4ms/step - accuracy: 0.8675 - loss: 0.3206 - val_accuracy: 0.8544 - val_loss: 0.3632\n",
            "Epoch 8/100\n",
            "\u001b[1m200/200\u001b[0m \u001b[32m━━━━━━━━━━━━━━━━━━━━\u001b[0m\u001b[37m\u001b[0m \u001b[1m1s\u001b[0m 4ms/step - accuracy: 0.8637 - loss: 0.3282 - val_accuracy: 0.8531 - val_loss: 0.3600\n",
            "Epoch 9/100\n",
            "\u001b[1m200/200\u001b[0m \u001b[32m━━━━━━━━━━━━━━━━━━━━\u001b[0m\u001b[37m\u001b[0m \u001b[1m1s\u001b[0m 4ms/step - accuracy: 0.8673 - loss: 0.3138 - val_accuracy: 0.8544 - val_loss: 0.3573\n",
            "Epoch 10/100\n",
            "\u001b[1m200/200\u001b[0m \u001b[32m━━━━━━━━━━━━━━━━━━━━\u001b[0m\u001b[37m\u001b[0m \u001b[1m1s\u001b[0m 4ms/step - accuracy: 0.8686 - loss: 0.3176 - val_accuracy: 0.8600 - val_loss: 0.3613\n",
            "Epoch 11/100\n",
            "\u001b[1m200/200\u001b[0m \u001b[32m━━━━━━━━━━━━━━━━━━━━\u001b[0m\u001b[37m\u001b[0m \u001b[1m1s\u001b[0m 4ms/step - accuracy: 0.8708 - loss: 0.3126 - val_accuracy: 0.8562 - val_loss: 0.3585\n",
            "Epoch 12/100\n",
            "\u001b[1m200/200\u001b[0m \u001b[32m━━━━━━━━━━━━━━━━━━━━\u001b[0m\u001b[37m\u001b[0m \u001b[1m1s\u001b[0m 4ms/step - accuracy: 0.8633 - loss: 0.3225 - val_accuracy: 0.8581 - val_loss: 0.3610\n",
            "Epoch 13/100\n",
            "\u001b[1m200/200\u001b[0m \u001b[32m━━━━━━━━━━━━━━━━━━━━\u001b[0m\u001b[37m\u001b[0m \u001b[1m1s\u001b[0m 4ms/step - accuracy: 0.8755 - loss: 0.3055 - val_accuracy: 0.8562 - val_loss: 0.3589\n",
            "Epoch 14/100\n",
            "\u001b[1m200/200\u001b[0m \u001b[32m━━━━━━━━━━━━━━━━━━━━\u001b[0m\u001b[37m\u001b[0m \u001b[1m1s\u001b[0m 5ms/step - accuracy: 0.8593 - loss: 0.3314 - val_accuracy: 0.8519 - val_loss: 0.3592\n",
            "Epoch 15/100\n",
            "\u001b[1m200/200\u001b[0m \u001b[32m━━━━━━━━━━━━━━━━━━━━\u001b[0m\u001b[37m\u001b[0m \u001b[1m1s\u001b[0m 6ms/step - accuracy: 0.8756 - loss: 0.3151 - val_accuracy: 0.8581 - val_loss: 0.3637\n",
            "Epoch 16/100\n",
            "\u001b[1m200/200\u001b[0m \u001b[32m━━━━━━━━━━━━━━━━━━━━\u001b[0m\u001b[37m\u001b[0m \u001b[1m1s\u001b[0m 7ms/step - accuracy: 0.8714 - loss: 0.3152 - val_accuracy: 0.8569 - val_loss: 0.3600\n",
            "Epoch 17/100\n",
            "\u001b[1m200/200\u001b[0m \u001b[32m━━━━━━━━━━━━━━━━━━━━\u001b[0m\u001b[37m\u001b[0m \u001b[1m2s\u001b[0m 4ms/step - accuracy: 0.8733 - loss: 0.3109 - val_accuracy: 0.8556 - val_loss: 0.3652\n",
            "Epoch 18/100\n",
            "\u001b[1m200/200\u001b[0m \u001b[32m━━━━━━━━━━━━━━━━━━━━\u001b[0m\u001b[37m\u001b[0m \u001b[1m1s\u001b[0m 4ms/step - accuracy: 0.8750 - loss: 0.3095 - val_accuracy: 0.8506 - val_loss: 0.3643\n",
            "Epoch 19/100\n",
            "\u001b[1m200/200\u001b[0m \u001b[32m━━━━━━━━━━━━━━━━━━━━\u001b[0m\u001b[37m\u001b[0m \u001b[1m1s\u001b[0m 4ms/step - accuracy: 0.8783 - loss: 0.3074 - val_accuracy: 0.8525 - val_loss: 0.3624\n",
            "Epoch 20/100\n",
            "\u001b[1m200/200\u001b[0m \u001b[32m━━━━━━━━━━━━━━━━━━━━\u001b[0m\u001b[37m\u001b[0m \u001b[1m1s\u001b[0m 4ms/step - accuracy: 0.8728 - loss: 0.3081 - val_accuracy: 0.8569 - val_loss: 0.3641\n",
            "Epoch 21/100\n",
            "\u001b[1m200/200\u001b[0m \u001b[32m━━━━━━━━━━━━━━━━━━━━\u001b[0m\u001b[37m\u001b[0m \u001b[1m1s\u001b[0m 4ms/step - accuracy: 0.8680 - loss: 0.3193 - val_accuracy: 0.8512 - val_loss: 0.3611\n",
            "Epoch 22/100\n",
            "\u001b[1m200/200\u001b[0m \u001b[32m━━━━━━━━━━━━━━━━━━━━\u001b[0m\u001b[37m\u001b[0m \u001b[1m1s\u001b[0m 4ms/step - accuracy: 0.8835 - loss: 0.2855 - val_accuracy: 0.8512 - val_loss: 0.3650\n",
            "Epoch 23/100\n",
            "\u001b[1m200/200\u001b[0m \u001b[32m━━━━━━━━━━━━━━━━━━━━\u001b[0m\u001b[37m\u001b[0m \u001b[1m1s\u001b[0m 4ms/step - accuracy: 0.8662 - loss: 0.3176 - val_accuracy: 0.8531 - val_loss: 0.3635\n",
            "Epoch 24/100\n",
            "\u001b[1m200/200\u001b[0m \u001b[32m━━━━━━━━━━━━━━━━━━━━\u001b[0m\u001b[37m\u001b[0m \u001b[1m1s\u001b[0m 4ms/step - accuracy: 0.8681 - loss: 0.3119 - val_accuracy: 0.8525 - val_loss: 0.3636\n",
            "Epoch 25/100\n",
            "\u001b[1m200/200\u001b[0m \u001b[32m━━━━━━━━━━━━━━━━━━━━\u001b[0m\u001b[37m\u001b[0m \u001b[1m2s\u001b[0m 6ms/step - accuracy: 0.8787 - loss: 0.3054 - val_accuracy: 0.8531 - val_loss: 0.3704\n",
            "Epoch 26/100\n",
            "\u001b[1m200/200\u001b[0m \u001b[32m━━━━━━━━━━━━━━━━━━━━\u001b[0m\u001b[37m\u001b[0m \u001b[1m1s\u001b[0m 6ms/step - accuracy: 0.8734 - loss: 0.3082 - val_accuracy: 0.8531 - val_loss: 0.3661\n",
            "Epoch 27/100\n",
            "\u001b[1m200/200\u001b[0m \u001b[32m━━━━━━━━━━━━━━━━━━━━\u001b[0m\u001b[37m\u001b[0m \u001b[1m2s\u001b[0m 6ms/step - accuracy: 0.8727 - loss: 0.3031 - val_accuracy: 0.8500 - val_loss: 0.3768\n",
            "Epoch 28/100\n",
            "\u001b[1m200/200\u001b[0m \u001b[32m━━━━━━━━━━━━━━━━━━━━\u001b[0m\u001b[37m\u001b[0m \u001b[1m1s\u001b[0m 4ms/step - accuracy: 0.8617 - loss: 0.3318 - val_accuracy: 0.8544 - val_loss: 0.3686\n",
            "Epoch 29/100\n",
            "\u001b[1m200/200\u001b[0m \u001b[32m━━━━━━━━━━━━━━━━━━━━\u001b[0m\u001b[37m\u001b[0m \u001b[1m1s\u001b[0m 4ms/step - accuracy: 0.8760 - loss: 0.3048 - val_accuracy: 0.8512 - val_loss: 0.3636\n",
            "Epoch 30/100\n",
            "\u001b[1m200/200\u001b[0m \u001b[32m━━━━━━━━━━━━━━━━━━━━\u001b[0m\u001b[37m\u001b[0m \u001b[1m1s\u001b[0m 4ms/step - accuracy: 0.8785 - loss: 0.2919 - val_accuracy: 0.8512 - val_loss: 0.3684\n",
            "Epoch 31/100\n",
            "\u001b[1m200/200\u001b[0m \u001b[32m━━━━━━━━━━━━━━━━━━━━\u001b[0m\u001b[37m\u001b[0m \u001b[1m1s\u001b[0m 4ms/step - accuracy: 0.8776 - loss: 0.2952 - val_accuracy: 0.8531 - val_loss: 0.3705\n",
            "Epoch 32/100\n",
            "\u001b[1m200/200\u001b[0m \u001b[32m━━━━━━━━━━━━━━━━━━━━\u001b[0m\u001b[37m\u001b[0m \u001b[1m1s\u001b[0m 4ms/step - accuracy: 0.8699 - loss: 0.3116 - val_accuracy: 0.8525 - val_loss: 0.3687\n",
            "Epoch 33/100\n",
            "\u001b[1m200/200\u001b[0m \u001b[32m━━━━━━━━━━━━━━━━━━━━\u001b[0m\u001b[37m\u001b[0m \u001b[1m1s\u001b[0m 4ms/step - accuracy: 0.8772 - loss: 0.2961 - val_accuracy: 0.8531 - val_loss: 0.3711\n",
            "Epoch 34/100\n",
            "\u001b[1m200/200\u001b[0m \u001b[32m━━━━━━━━━━━━━━━━━━━━\u001b[0m\u001b[37m\u001b[0m \u001b[1m1s\u001b[0m 4ms/step - accuracy: 0.8754 - loss: 0.3053 - val_accuracy: 0.8500 - val_loss: 0.3750\n",
            "Epoch 35/100\n",
            "\u001b[1m200/200\u001b[0m \u001b[32m━━━━━━━━━━━━━━━━━━━━\u001b[0m\u001b[37m\u001b[0m \u001b[1m1s\u001b[0m 5ms/step - accuracy: 0.8695 - loss: 0.3079 - val_accuracy: 0.8494 - val_loss: 0.3758\n",
            "Epoch 36/100\n",
            "\u001b[1m200/200\u001b[0m \u001b[32m━━━━━━━━━━━━━━━━━━━━\u001b[0m\u001b[37m\u001b[0m \u001b[1m1s\u001b[0m 4ms/step - accuracy: 0.8732 - loss: 0.3019 - val_accuracy: 0.8537 - val_loss: 0.3723\n",
            "Epoch 37/100\n",
            "\u001b[1m200/200\u001b[0m \u001b[32m━━━━━━━━━━━━━━━━━━━━\u001b[0m\u001b[37m\u001b[0m \u001b[1m2s\u001b[0m 7ms/step - accuracy: 0.8811 - loss: 0.2945 - val_accuracy: 0.8537 - val_loss: 0.3740\n",
            "Epoch 38/100\n",
            "\u001b[1m200/200\u001b[0m \u001b[32m━━━━━━━━━━━━━━━━━━━━\u001b[0m\u001b[37m\u001b[0m \u001b[1m3s\u001b[0m 7ms/step - accuracy: 0.8828 - loss: 0.2884 - val_accuracy: 0.8462 - val_loss: 0.3752\n",
            "Epoch 39/100\n",
            "\u001b[1m200/200\u001b[0m \u001b[32m━━━━━━━━━━━━━━━━━━━━\u001b[0m\u001b[37m\u001b[0m \u001b[1m1s\u001b[0m 4ms/step - accuracy: 0.8765 - loss: 0.2997 - val_accuracy: 0.8487 - val_loss: 0.3759\n",
            "Epoch 40/100\n",
            "\u001b[1m200/200\u001b[0m \u001b[32m━━━━━━━━━━━━━━━━━━━━\u001b[0m\u001b[37m\u001b[0m \u001b[1m1s\u001b[0m 4ms/step - accuracy: 0.8826 - loss: 0.2918 - val_accuracy: 0.8450 - val_loss: 0.3798\n",
            "Epoch 41/100\n",
            "\u001b[1m200/200\u001b[0m \u001b[32m━━━━━━━━━━━━━━━━━━━━\u001b[0m\u001b[37m\u001b[0m \u001b[1m1s\u001b[0m 4ms/step - accuracy: 0.8843 - loss: 0.2794 - val_accuracy: 0.8512 - val_loss: 0.3816\n",
            "Epoch 42/100\n",
            "\u001b[1m200/200\u001b[0m \u001b[32m━━━━━━━━━━━━━━━━━━━━\u001b[0m\u001b[37m\u001b[0m \u001b[1m1s\u001b[0m 4ms/step - accuracy: 0.8789 - loss: 0.2849 - val_accuracy: 0.8525 - val_loss: 0.3733\n",
            "Epoch 43/100\n",
            "\u001b[1m200/200\u001b[0m \u001b[32m━━━━━━━━━━━━━━━━━━━━\u001b[0m\u001b[37m\u001b[0m \u001b[1m1s\u001b[0m 4ms/step - accuracy: 0.8774 - loss: 0.2935 - val_accuracy: 0.8450 - val_loss: 0.3797\n",
            "Epoch 44/100\n",
            "\u001b[1m200/200\u001b[0m \u001b[32m━━━━━━━━━━━━━━━━━━━━\u001b[0m\u001b[37m\u001b[0m \u001b[1m1s\u001b[0m 4ms/step - accuracy: 0.8855 - loss: 0.2873 - val_accuracy: 0.8500 - val_loss: 0.3863\n",
            "Epoch 45/100\n",
            "\u001b[1m200/200\u001b[0m \u001b[32m━━━━━━━━━━━━━━━━━━━━\u001b[0m\u001b[37m\u001b[0m \u001b[1m1s\u001b[0m 5ms/step - accuracy: 0.8793 - loss: 0.2812 - val_accuracy: 0.8456 - val_loss: 0.3832\n",
            "Epoch 46/100\n",
            "\u001b[1m200/200\u001b[0m \u001b[32m━━━━━━━━━━━━━━━━━━━━\u001b[0m\u001b[37m\u001b[0m \u001b[1m1s\u001b[0m 4ms/step - accuracy: 0.8806 - loss: 0.2865 - val_accuracy: 0.8462 - val_loss: 0.3895\n",
            "Epoch 47/100\n",
            "\u001b[1m200/200\u001b[0m \u001b[32m━━━━━━━━━━━━━━━━━━━━\u001b[0m\u001b[37m\u001b[0m \u001b[1m1s\u001b[0m 4ms/step - accuracy: 0.8863 - loss: 0.2825 - val_accuracy: 0.8481 - val_loss: 0.3844\n",
            "Epoch 48/100\n",
            "\u001b[1m200/200\u001b[0m \u001b[32m━━━━━━━━━━━━━━━━━━━━\u001b[0m\u001b[37m\u001b[0m \u001b[1m2s\u001b[0m 7ms/step - accuracy: 0.8850 - loss: 0.2827 - val_accuracy: 0.8475 - val_loss: 0.3851\n",
            "Epoch 49/100\n",
            "\u001b[1m200/200\u001b[0m \u001b[32m━━━━━━━━━━━━━━━━━━━━\u001b[0m\u001b[37m\u001b[0m \u001b[1m3s\u001b[0m 7ms/step - accuracy: 0.8852 - loss: 0.2792 - val_accuracy: 0.8363 - val_loss: 0.3859\n",
            "Epoch 50/100\n",
            "\u001b[1m200/200\u001b[0m \u001b[32m━━━━━━━━━━━━━━━━━━━━\u001b[0m\u001b[37m\u001b[0m \u001b[1m1s\u001b[0m 4ms/step - accuracy: 0.8829 - loss: 0.2820 - val_accuracy: 0.8413 - val_loss: 0.3919\n",
            "Epoch 51/100\n",
            "\u001b[1m200/200\u001b[0m \u001b[32m━━━━━━━━━━━━━━━━━━━━\u001b[0m\u001b[37m\u001b[0m \u001b[1m1s\u001b[0m 4ms/step - accuracy: 0.8820 - loss: 0.2893 - val_accuracy: 0.8413 - val_loss: 0.3930\n",
            "Epoch 52/100\n",
            "\u001b[1m200/200\u001b[0m \u001b[32m━━━━━━━━━━━━━━━━━━━━\u001b[0m\u001b[37m\u001b[0m \u001b[1m2s\u001b[0m 6ms/step - accuracy: 0.8808 - loss: 0.2831 - val_accuracy: 0.8512 - val_loss: 0.3934\n",
            "Epoch 53/100\n",
            "\u001b[1m200/200\u001b[0m \u001b[32m━━━━━━━━━━━━━━━━━━━━\u001b[0m\u001b[37m\u001b[0m \u001b[1m1s\u001b[0m 6ms/step - accuracy: 0.8873 - loss: 0.2789 - val_accuracy: 0.8487 - val_loss: 0.3898\n",
            "Epoch 54/100\n",
            "\u001b[1m200/200\u001b[0m \u001b[32m━━━━━━━━━━━━━━━━━━━━\u001b[0m\u001b[37m\u001b[0m \u001b[1m1s\u001b[0m 4ms/step - accuracy: 0.8845 - loss: 0.2834 - val_accuracy: 0.8438 - val_loss: 0.3953\n",
            "Epoch 55/100\n",
            "\u001b[1m200/200\u001b[0m \u001b[32m━━━━━━━━━━━━━━━━━━━━\u001b[0m\u001b[37m\u001b[0m \u001b[1m1s\u001b[0m 4ms/step - accuracy: 0.8864 - loss: 0.2774 - val_accuracy: 0.8438 - val_loss: 0.3995\n",
            "Epoch 56/100\n",
            "\u001b[1m200/200\u001b[0m \u001b[32m━━━━━━━━━━━━━━━━━━━━\u001b[0m\u001b[37m\u001b[0m \u001b[1m1s\u001b[0m 4ms/step - accuracy: 0.8895 - loss: 0.2786 - val_accuracy: 0.8519 - val_loss: 0.3949\n",
            "Epoch 57/100\n",
            "\u001b[1m200/200\u001b[0m \u001b[32m━━━━━━━━━━━━━━━━━━━━\u001b[0m\u001b[37m\u001b[0m \u001b[1m1s\u001b[0m 4ms/step - accuracy: 0.8870 - loss: 0.2719 - val_accuracy: 0.8394 - val_loss: 0.3971\n",
            "Epoch 58/100\n",
            "\u001b[1m200/200\u001b[0m \u001b[32m━━━━━━━━━━━━━━━━━━━━\u001b[0m\u001b[37m\u001b[0m \u001b[1m1s\u001b[0m 4ms/step - accuracy: 0.8890 - loss: 0.2693 - val_accuracy: 0.8425 - val_loss: 0.4002\n",
            "Epoch 59/100\n",
            "\u001b[1m200/200\u001b[0m \u001b[32m━━━━━━━━━━━━━━━━━━━━\u001b[0m\u001b[37m\u001b[0m \u001b[1m2s\u001b[0m 7ms/step - accuracy: 0.8802 - loss: 0.2848 - val_accuracy: 0.8431 - val_loss: 0.4051\n",
            "Epoch 60/100\n",
            "\u001b[1m200/200\u001b[0m \u001b[32m━━━━━━━━━━━━━━━━━━━━\u001b[0m\u001b[37m\u001b[0m \u001b[1m2s\u001b[0m 7ms/step - accuracy: 0.8916 - loss: 0.2709 - val_accuracy: 0.8331 - val_loss: 0.3980\n",
            "Epoch 61/100\n",
            "\u001b[1m200/200\u001b[0m \u001b[32m━━━━━━━━━━━━━━━━━━━━\u001b[0m\u001b[37m\u001b[0m \u001b[1m2s\u001b[0m 4ms/step - accuracy: 0.8918 - loss: 0.2731 - val_accuracy: 0.8344 - val_loss: 0.4110\n",
            "Epoch 62/100\n",
            "\u001b[1m200/200\u001b[0m \u001b[32m━━━━━━━━━━━━━━━━━━━━\u001b[0m\u001b[37m\u001b[0m \u001b[1m1s\u001b[0m 4ms/step - accuracy: 0.8844 - loss: 0.2803 - val_accuracy: 0.8438 - val_loss: 0.4016\n",
            "Epoch 63/100\n",
            "\u001b[1m200/200\u001b[0m \u001b[32m━━━━━━━━━━━━━━━━━━━━\u001b[0m\u001b[37m\u001b[0m \u001b[1m1s\u001b[0m 4ms/step - accuracy: 0.8870 - loss: 0.2746 - val_accuracy: 0.8431 - val_loss: 0.4088\n",
            "Epoch 64/100\n",
            "\u001b[1m200/200\u001b[0m \u001b[32m━━━━━━━━━━━━━━━━━━━━\u001b[0m\u001b[37m\u001b[0m \u001b[1m1s\u001b[0m 4ms/step - accuracy: 0.8763 - loss: 0.2891 - val_accuracy: 0.8413 - val_loss: 0.4094\n",
            "Epoch 65/100\n",
            "\u001b[1m200/200\u001b[0m \u001b[32m━━━━━━━━━━━━━━━━━━━━\u001b[0m\u001b[37m\u001b[0m \u001b[1m1s\u001b[0m 5ms/step - accuracy: 0.8814 - loss: 0.2816 - val_accuracy: 0.8456 - val_loss: 0.4093\n",
            "Epoch 66/100\n",
            "\u001b[1m200/200\u001b[0m \u001b[32m━━━━━━━━━━━━━━━━━━━━\u001b[0m\u001b[37m\u001b[0m \u001b[1m1s\u001b[0m 4ms/step - accuracy: 0.8929 - loss: 0.2640 - val_accuracy: 0.8350 - val_loss: 0.4121\n",
            "Epoch 67/100\n",
            "\u001b[1m200/200\u001b[0m \u001b[32m━━━━━━━━━━━━━━━━━━━━\u001b[0m\u001b[37m\u001b[0m \u001b[1m1s\u001b[0m 4ms/step - accuracy: 0.8915 - loss: 0.2651 - val_accuracy: 0.8344 - val_loss: 0.4149\n",
            "Epoch 68/100\n",
            "\u001b[1m200/200\u001b[0m \u001b[32m━━━━━━━━━━━━━━━━━━━━\u001b[0m\u001b[37m\u001b[0m \u001b[1m1s\u001b[0m 4ms/step - accuracy: 0.8851 - loss: 0.2776 - val_accuracy: 0.8350 - val_loss: 0.4090\n",
            "Epoch 69/100\n",
            "\u001b[1m200/200\u001b[0m \u001b[32m━━━━━━━━━━━━━━━━━━━━\u001b[0m\u001b[37m\u001b[0m \u001b[1m2s\u001b[0m 7ms/step - accuracy: 0.8939 - loss: 0.2640 - val_accuracy: 0.8388 - val_loss: 0.4182\n",
            "Epoch 70/100\n",
            "\u001b[1m200/200\u001b[0m \u001b[32m━━━━━━━━━━━━━━━━━━━━\u001b[0m\u001b[37m\u001b[0m \u001b[1m3s\u001b[0m 7ms/step - accuracy: 0.8829 - loss: 0.2751 - val_accuracy: 0.8381 - val_loss: 0.4167\n",
            "Epoch 71/100\n",
            "\u001b[1m200/200\u001b[0m \u001b[32m━━━━━━━━━━━━━━━━━━━━\u001b[0m\u001b[37m\u001b[0m \u001b[1m2s\u001b[0m 4ms/step - accuracy: 0.8914 - loss: 0.2509 - val_accuracy: 0.8319 - val_loss: 0.4149\n",
            "Epoch 72/100\n",
            "\u001b[1m200/200\u001b[0m \u001b[32m━━━━━━━━━━━━━━━━━━━━\u001b[0m\u001b[37m\u001b[0m \u001b[1m1s\u001b[0m 4ms/step - accuracy: 0.8963 - loss: 0.2543 - val_accuracy: 0.8356 - val_loss: 0.4163\n",
            "Epoch 73/100\n",
            "\u001b[1m200/200\u001b[0m \u001b[32m━━━━━━━━━━━━━━━━━━━━\u001b[0m\u001b[37m\u001b[0m \u001b[1m1s\u001b[0m 4ms/step - accuracy: 0.8894 - loss: 0.2684 - val_accuracy: 0.8388 - val_loss: 0.4164\n",
            "Epoch 74/100\n",
            "\u001b[1m200/200\u001b[0m \u001b[32m━━━━━━━━━━━━━━━━━━━━\u001b[0m\u001b[37m\u001b[0m \u001b[1m1s\u001b[0m 4ms/step - accuracy: 0.8833 - loss: 0.2786 - val_accuracy: 0.8369 - val_loss: 0.4276\n",
            "Epoch 75/100\n",
            "\u001b[1m200/200\u001b[0m \u001b[32m━━━━━━━━━━━━━━━━━━━━\u001b[0m\u001b[37m\u001b[0m \u001b[1m1s\u001b[0m 4ms/step - accuracy: 0.8995 - loss: 0.2585 - val_accuracy: 0.8381 - val_loss: 0.4249\n",
            "Epoch 76/100\n",
            "\u001b[1m200/200\u001b[0m \u001b[32m━━━━━━━━━━━━━━━━━━━━\u001b[0m\u001b[37m\u001b[0m \u001b[1m1s\u001b[0m 4ms/step - accuracy: 0.8937 - loss: 0.2665 - val_accuracy: 0.8413 - val_loss: 0.4288\n",
            "Epoch 77/100\n",
            "\u001b[1m200/200\u001b[0m \u001b[32m━━━━━━━━━━━━━━━━━━━━\u001b[0m\u001b[37m\u001b[0m \u001b[1m1s\u001b[0m 4ms/step - accuracy: 0.9011 - loss: 0.2458 - val_accuracy: 0.8406 - val_loss: 0.4279\n",
            "Epoch 78/100\n",
            "\u001b[1m200/200\u001b[0m \u001b[32m━━━━━━━━━━━━━━━━━━━━\u001b[0m\u001b[37m\u001b[0m \u001b[1m1s\u001b[0m 4ms/step - accuracy: 0.8957 - loss: 0.2483 - val_accuracy: 0.8363 - val_loss: 0.4224\n",
            "Epoch 79/100\n",
            "\u001b[1m200/200\u001b[0m \u001b[32m━━━━━━━━━━━━━━━━━━━━\u001b[0m\u001b[37m\u001b[0m \u001b[1m2s\u001b[0m 8ms/step - accuracy: 0.8915 - loss: 0.2609 - val_accuracy: 0.8344 - val_loss: 0.4280\n",
            "Epoch 80/100\n",
            "\u001b[1m200/200\u001b[0m \u001b[32m━━━━━━━━━━━━━━━━━━━━\u001b[0m\u001b[37m\u001b[0m \u001b[1m2s\u001b[0m 7ms/step - accuracy: 0.8941 - loss: 0.2559 - val_accuracy: 0.8313 - val_loss: 0.4276\n",
            "Epoch 81/100\n",
            "\u001b[1m200/200\u001b[0m \u001b[32m━━━━━━━━━━━━━━━━━━━━\u001b[0m\u001b[37m\u001b[0m \u001b[1m1s\u001b[0m 5ms/step - accuracy: 0.8944 - loss: 0.2477 - val_accuracy: 0.8275 - val_loss: 0.4334\n",
            "Epoch 82/100\n",
            "\u001b[1m200/200\u001b[0m \u001b[32m━━━━━━━━━━━━━━━━━━━━\u001b[0m\u001b[37m\u001b[0m \u001b[1m1s\u001b[0m 4ms/step - accuracy: 0.8999 - loss: 0.2560 - val_accuracy: 0.8331 - val_loss: 0.4292\n",
            "Epoch 83/100\n",
            "\u001b[1m200/200\u001b[0m \u001b[32m━━━━━━━━━━━━━━━━━━━━\u001b[0m\u001b[37m\u001b[0m \u001b[1m1s\u001b[0m 4ms/step - accuracy: 0.8937 - loss: 0.2545 - val_accuracy: 0.8219 - val_loss: 0.4433\n",
            "Epoch 84/100\n",
            "\u001b[1m200/200\u001b[0m \u001b[32m━━━━━━━━━━━━━━━━━━━━\u001b[0m\u001b[37m\u001b[0m \u001b[1m1s\u001b[0m 4ms/step - accuracy: 0.8982 - loss: 0.2439 - val_accuracy: 0.8263 - val_loss: 0.4367\n",
            "Epoch 85/100\n",
            "\u001b[1m200/200\u001b[0m \u001b[32m━━━━━━━━━━━━━━━━━━━━\u001b[0m\u001b[37m\u001b[0m \u001b[1m1s\u001b[0m 4ms/step - accuracy: 0.9012 - loss: 0.2422 - val_accuracy: 0.8319 - val_loss: 0.4420\n",
            "Epoch 86/100\n",
            "\u001b[1m200/200\u001b[0m \u001b[32m━━━━━━━━━━━━━━━━━━━━\u001b[0m\u001b[37m\u001b[0m \u001b[1m1s\u001b[0m 4ms/step - accuracy: 0.9024 - loss: 0.2390 - val_accuracy: 0.8263 - val_loss: 0.4335\n",
            "Epoch 87/100\n",
            "\u001b[1m200/200\u001b[0m \u001b[32m━━━━━━━━━━━━━━━━━━━━\u001b[0m\u001b[37m\u001b[0m \u001b[1m1s\u001b[0m 4ms/step - accuracy: 0.8956 - loss: 0.2580 - val_accuracy: 0.8381 - val_loss: 0.4475\n",
            "Epoch 88/100\n",
            "\u001b[1m200/200\u001b[0m \u001b[32m━━━━━━━━━━━━━━━━━━━━\u001b[0m\u001b[37m\u001b[0m \u001b[1m1s\u001b[0m 4ms/step - accuracy: 0.8950 - loss: 0.2573 - val_accuracy: 0.8300 - val_loss: 0.4409\n",
            "Epoch 89/100\n",
            "\u001b[1m200/200\u001b[0m \u001b[32m━━━━━━━━━━━━━━━━━━━━\u001b[0m\u001b[37m\u001b[0m \u001b[1m1s\u001b[0m 4ms/step - accuracy: 0.9004 - loss: 0.2446 - val_accuracy: 0.8288 - val_loss: 0.4465\n",
            "Epoch 90/100\n",
            "\u001b[1m200/200\u001b[0m \u001b[32m━━━━━━━━━━━━━━━━━━━━\u001b[0m\u001b[37m\u001b[0m \u001b[1m1s\u001b[0m 4ms/step - accuracy: 0.8969 - loss: 0.2527 - val_accuracy: 0.8275 - val_loss: 0.4464\n",
            "Epoch 91/100\n",
            "\u001b[1m200/200\u001b[0m \u001b[32m━━━━━━━━━━━━━━━━━━━━\u001b[0m\u001b[37m\u001b[0m \u001b[1m2s\u001b[0m 7ms/step - accuracy: 0.8991 - loss: 0.2491 - val_accuracy: 0.8200 - val_loss: 0.4471\n",
            "Epoch 92/100\n",
            "\u001b[1m200/200\u001b[0m \u001b[32m━━━━━━━━━━━━━━━━━━━━\u001b[0m\u001b[37m\u001b[0m \u001b[1m1s\u001b[0m 7ms/step - accuracy: 0.8937 - loss: 0.2517 - val_accuracy: 0.8188 - val_loss: 0.4464\n",
            "Epoch 93/100\n",
            "\u001b[1m200/200\u001b[0m \u001b[32m━━━━━━━━━━━━━━━━━━━━\u001b[0m\u001b[37m\u001b[0m \u001b[1m2s\u001b[0m 5ms/step - accuracy: 0.9003 - loss: 0.2375 - val_accuracy: 0.8369 - val_loss: 0.4620\n",
            "Epoch 94/100\n",
            "\u001b[1m200/200\u001b[0m \u001b[32m━━━━━━━━━━━━━━━━━━━━\u001b[0m\u001b[37m\u001b[0m \u001b[1m1s\u001b[0m 4ms/step - accuracy: 0.8912 - loss: 0.2601 - val_accuracy: 0.8150 - val_loss: 0.4534\n",
            "Epoch 95/100\n",
            "\u001b[1m200/200\u001b[0m \u001b[32m━━━━━━━━━━━━━━━━━━━━\u001b[0m\u001b[37m\u001b[0m \u001b[1m1s\u001b[0m 4ms/step - accuracy: 0.8937 - loss: 0.2575 - val_accuracy: 0.8325 - val_loss: 0.4457\n",
            "Epoch 96/100\n",
            "\u001b[1m200/200\u001b[0m \u001b[32m━━━━━━━━━━━━━━━━━━━━\u001b[0m\u001b[37m\u001b[0m \u001b[1m1s\u001b[0m 4ms/step - accuracy: 0.8999 - loss: 0.2384 - val_accuracy: 0.8300 - val_loss: 0.4536\n",
            "Epoch 97/100\n",
            "\u001b[1m200/200\u001b[0m \u001b[32m━━━━━━━━━━━━━━━━━━━━\u001b[0m\u001b[37m\u001b[0m \u001b[1m1s\u001b[0m 4ms/step - accuracy: 0.9048 - loss: 0.2448 - val_accuracy: 0.8144 - val_loss: 0.4564\n",
            "Epoch 98/100\n",
            "\u001b[1m200/200\u001b[0m \u001b[32m━━━━━━━━━━━━━━━━━━━━\u001b[0m\u001b[37m\u001b[0m \u001b[1m1s\u001b[0m 4ms/step - accuracy: 0.9030 - loss: 0.2354 - val_accuracy: 0.8325 - val_loss: 0.4527\n",
            "Epoch 99/100\n",
            "\u001b[1m200/200\u001b[0m \u001b[32m━━━━━━━━━━━━━━━━━━━━\u001b[0m\u001b[37m\u001b[0m \u001b[1m1s\u001b[0m 4ms/step - accuracy: 0.9029 - loss: 0.2283 - val_accuracy: 0.8363 - val_loss: 0.4596\n",
            "Epoch 100/100\n",
            "\u001b[1m200/200\u001b[0m \u001b[32m━━━━━━━━━━━━━━━━━━━━\u001b[0m\u001b[37m\u001b[0m \u001b[1m1s\u001b[0m 4ms/step - accuracy: 0.8971 - loss: 0.2391 - val_accuracy: 0.8338 - val_loss: 0.4649\n"
          ]
        },
        {
          "output_type": "execute_result",
          "data": {
            "text/plain": [
              "<keras.src.callbacks.history.History at 0x7b5b98c22990>"
            ]
          },
          "metadata": {},
          "execution_count": 41
        }
      ]
    },
    {
      "cell_type": "code",
      "source": [
        "train_pred = model.predict(x_train)\n",
        "train_pred = np.where(train_pred > 0.5, 1, 0)\n",
        "train_pred[:5]"
      ],
      "metadata": {
        "colab": {
          "base_uri": "https://localhost:8080/"
        },
        "id": "Vk2XEtVnyHBW",
        "outputId": "3413236c-36c0-481f-bf55-269f8b8c091a"
      },
      "execution_count": null,
      "outputs": [
        {
          "output_type": "stream",
          "name": "stdout",
          "text": [
            "\u001b[1m250/250\u001b[0m \u001b[32m━━━━━━━━━━━━━━━━━━━━\u001b[0m\u001b[37m\u001b[0m \u001b[1m0s\u001b[0m 2ms/step\n"
          ]
        },
        {
          "output_type": "execute_result",
          "data": {
            "text/plain": [
              "array([[0],\n",
              "       [0],\n",
              "       [0],\n",
              "       [0],\n",
              "       [0]])"
            ]
          },
          "metadata": {},
          "execution_count": 42
        }
      ]
    },
    {
      "cell_type": "code",
      "source": [
        "test_pred = model.predict(x_test)\n",
        "test_pred = np.where(test_pred > 0.5, 1, 0)\n",
        "test_pred[:5]"
      ],
      "metadata": {
        "colab": {
          "base_uri": "https://localhost:8080/"
        },
        "id": "DLebqKy_yG-d",
        "outputId": "c3b2a95a-0f1b-4e24-9152-57e2c3e267f2"
      },
      "execution_count": null,
      "outputs": [
        {
          "output_type": "stream",
          "name": "stdout",
          "text": [
            "\u001b[1m63/63\u001b[0m \u001b[32m━━━━━━━━━━━━━━━━━━━━\u001b[0m\u001b[37m\u001b[0m \u001b[1m0s\u001b[0m 2ms/step\n"
          ]
        },
        {
          "output_type": "execute_result",
          "data": {
            "text/plain": [
              "array([[0],\n",
              "       [0],\n",
              "       [0],\n",
              "       [0],\n",
              "       [0]])"
            ]
          },
          "metadata": {},
          "execution_count": 43
        }
      ]
    },
    {
      "cell_type": "code",
      "source": [
        "from sklearn.metrics import accuracy_score, confusion_matrix"
      ],
      "metadata": {
        "id": "lLuvfGRfzKVY"
      },
      "execution_count": null,
      "outputs": []
    },
    {
      "cell_type": "code",
      "source": [
        "print('Train Accuracy :- ', accuracy_score(y_train, train_pred))\n",
        "print('Train Confusion Matrix :- \\n', confusion_matrix(y_train, train_pred))"
      ],
      "metadata": {
        "colab": {
          "base_uri": "https://localhost:8080/"
        },
        "id": "wwnqUkGGzO7Y",
        "outputId": "95e8f8ae-59ad-456b-b7c4-7884acbce353"
      },
      "execution_count": null,
      "outputs": [
        {
          "output_type": "stream",
          "name": "stdout",
          "text": [
            "Train Accuracy :-  0.89125\n",
            "Train Confusion Matrix :- \n",
            " [[6192  176]\n",
            " [ 694  938]]\n"
          ]
        }
      ]
    },
    {
      "cell_type": "code",
      "source": [
        "print('Test Accuracy :- ', accuracy_score(y_test, test_pred))\n",
        "print('Test Confusion Matrix :- \\n', confusion_matrix(y_test, test_pred))"
      ],
      "metadata": {
        "colab": {
          "base_uri": "https://localhost:8080/"
        },
        "id": "gCwDs_RAzYCW",
        "outputId": "85c20223-3712-4670-8991-b54eb8909683"
      },
      "execution_count": null,
      "outputs": [
        {
          "output_type": "stream",
          "name": "stdout",
          "text": [
            "Test Accuracy :-  0.8405\n",
            "Test Confusion Matrix :- \n",
            " [[1483  112]\n",
            " [ 207  198]]\n"
          ]
        }
      ]
    },
    {
      "cell_type": "code",
      "source": [],
      "metadata": {
        "id": "LeyQKYiwzfia"
      },
      "execution_count": null,
      "outputs": []
    }
  ]
}